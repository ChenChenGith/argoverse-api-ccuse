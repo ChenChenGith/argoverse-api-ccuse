{
 "cells": [
  {
   "cell_type": "code",
   "execution_count": 1,
   "metadata": {
    "collapsed": true
   },
   "outputs": [],
   "source": [
    "import pandas as pd"
   ]
  },
  {
   "cell_type": "code",
   "execution_count": 2,
   "outputs": [
    {
     "data": {
      "text/plain": "['E:\\\\argoverse-api-ccuse\\\\chenchencode',\n 'E:\\\\argoverse-api-ccuse',\n 'E:\\\\LasVSim\\\\sumo-win64-1.6.0\\\\sumo-1.6.0\\\\tools',\n 'D:\\\\ProgramData\\\\Anaconda3\\\\python37.zip',\n 'D:\\\\ProgramData\\\\Anaconda3\\\\DLLs',\n 'D:\\\\ProgramData\\\\Anaconda3\\\\lib',\n 'D:\\\\ProgramData\\\\Anaconda3',\n '',\n 'D:\\\\ProgramData\\\\Anaconda3\\\\lib\\\\site-packages',\n 'D:\\\\ProgramData\\\\Anaconda3\\\\lib\\\\site-packages\\\\locket-0.2.1-py3.7.egg',\n 'D:\\\\ProgramData\\\\Anaconda3\\\\lib\\\\site-packages\\\\win32',\n 'D:\\\\ProgramData\\\\Anaconda3\\\\lib\\\\site-packages\\\\win32\\\\lib',\n 'D:\\\\ProgramData\\\\Anaconda3\\\\lib\\\\site-packages\\\\Pythonwin',\n 'D:\\\\ProgramData\\\\Anaconda3\\\\lib\\\\site-packages\\\\IPython\\\\extensions',\n 'C:\\\\Users\\\\Johnc\\\\.ipython']"
     },
     "execution_count": 2,
     "metadata": {},
     "output_type": "execute_result"
    }
   ],
   "source": [
    "import sys\n",
    "sys.path\n",
    "# sys.path.append('..')\n"
   ],
   "metadata": {
    "collapsed": false,
    "pycharm": {
     "name": "#%%\n"
    }
   }
  },
  {
   "cell_type": "code",
   "execution_count": 3,
   "outputs": [
    {
     "name": "stdout",
     "output_type": "stream",
     "text": [
      "Total number of sequences: 28\n"
     ]
    }
   ],
   "source": [
    "from argoverse.data_loading.argoverse_forecasting_loader import ArgoverseForecastingLoader\n",
    "# 设置路径\n",
    "root_dir = '../forecasting_sample/data/'\n",
    "afl = ArgoverseForecastingLoader(root_dir)  # loader对象\n",
    "print('Total number of sequences:',len(afl))  # 文件夹中的seq，即数据文件的数量"
   ],
   "metadata": {
    "collapsed": false,
    "pycharm": {
     "name": "#%%\n"
    }
   }
  },
  {
   "cell_type": "code",
   "source": [
    "afl[14]  # 指定文件夹中第几个文件\n",
    "afl[14].seq_list  # 文件夹中文件的路径\n",
    "afl[14].track_id_list  # 所指定文件中的track名，即车辆对象ID\n",
    "afl[14].seq_df  # 将指定文件中的数据变为df格式\n",
    "afl[14].agent_traj  # 指定文件中的自车agent的路径"
   ],
   "metadata": {
    "collapsed": false,
    "pycharm": {
     "name": "#%%\n"
    }
   },
   "execution_count": 7,
   "outputs": [
    {
     "data": {
      "text/plain": "array([[ 816.02199341, 2112.9816757 ],\n       [ 815.93342574, 2113.04385959],\n       [ 816.71339562, 2113.01357686],\n       [ 816.92520535, 2113.03088988],\n       [ 817.49051545, 2112.95810889],\n       [ 817.76760538, 2113.08218993],\n       [ 818.06815494, 2113.05096926],\n       [ 818.16579581, 2113.14665628],\n       [ 818.69483485, 2113.12052732],\n       [ 819.24620433, 2113.15299699],\n       [ 819.42709438, 2113.23796971],\n       [ 820.12911863, 2113.18561713],\n       [ 820.41280386, 2113.28232344],\n       [ 821.04346964, 2113.21740298],\n       [ 821.27942644, 2113.29559052],\n       [ 821.86681379, 2113.27981464],\n       [ 822.02893568, 2113.33664199],\n       [ 822.26363066, 2113.40929523],\n       [ 822.74444268, 2113.36345844],\n       [ 822.92370711, 2113.38295531],\n       [ 823.32339318, 2113.42972206],\n       [ 823.57933081, 2113.31021546],\n       [ 823.80163753, 2113.37137207],\n       [ 824.09534051, 2113.29527583],\n       [ 828.44200142, 2113.58196323],\n       [ 828.65994056, 2113.70943571],\n       [ 828.69607906, 2113.67839832],\n       [ 828.79538901, 2113.7159379 ],\n       [ 828.79224849, 2113.65414492],\n       [ 828.80971436, 2113.60061925],\n       [ 828.97317973, 2113.52185281],\n       [ 829.11134765, 2113.39447613],\n       [ 829.67707293, 2113.47074759],\n       [ 830.02806893, 2113.37293112],\n       [ 833.58174209, 2113.89627904],\n       [ 833.96757247, 2113.9199986 ],\n       [ 834.20349349, 2113.78098753],\n       [ 834.4031498 , 2113.74827436],\n       [ 834.88382961, 2113.71569048],\n       [ 835.396641  , 2113.60351487],\n       [ 836.11340637, 2113.66183189],\n       [ 836.88580025, 2113.76341233],\n       [ 837.5379022 , 2113.70334621],\n       [ 838.25387357, 2113.73107312],\n       [ 839.02281841, 2113.77432172],\n       [ 839.02281841, 2113.77432172],\n       [ 840.35800004, 2113.82307885],\n       [ 840.99135324, 2113.84967067],\n       [ 841.31621049, 2113.79222138],\n       [ 841.82310482, 2113.76129815]])"
     },
     "execution_count": 7,
     "metadata": {},
     "output_type": "execute_result"
    }
   ]
  },
  {
   "cell_type": "code",
   "execution_count": 6,
   "outputs": [
    {
     "data": {
      "text/plain": "(     TIMESTAMP  TRACK_ID            X            Y\n 12         0.0         0  2797.846904  1376.479374\n 24         0.2         0  2797.574017  1377.031297\n 35         0.3         0  2797.341975  1377.287617\n 47         0.4         0  2796.977008  1377.619543\n 62         0.6         0  2796.437718  1378.125152\n ..         ...       ...          ...          ...\n 158        1.7        20  2804.891905  1389.170552\n 165        1.8        20  2805.309313  1389.571250\n 172        1.9        20  2805.345676  1389.453952\n 163        1.8        21  2841.973300  1308.630612\n 170        1.9        21  2842.495152  1309.094250\n \n [174 rows x 4 columns],\n                X            Y\n 174  2833.231773  1339.284190\n 182  2832.750646  1339.790588\n 190  2832.311980  1340.249547\n 198  2831.878207  1340.703625\n 206  2831.391199  1341.211722\n 215  2830.950375  1341.669981\n 224  2830.510363  1342.127208\n 233  2830.070821  1342.584193\n 242  2829.584653  1343.090274\n 252  2829.139587  1343.553025\n 263  2828.654028  1344.058075\n 275  2828.206852  1344.520077\n 286  2827.760036  1344.981669\n 297  2827.267078  1345.494079\n 311  2826.817857  1345.960183\n 327  2826.316448  1346.479457\n 342  2825.862626  1346.948057\n 356  2825.402774  1347.424863\n 370  2824.946427  1347.901252\n 384  2824.490069  1348.380005\n 397  2823.984078  1348.908602\n 412  2823.514467  1349.397537\n 427  2823.050385  1349.883410\n 443  2822.534013  1350.426590\n 459  2822.066062  1350.919407\n 474  2821.593874  1351.416321\n 489  2821.119512  1351.915820\n 504  2820.597976  1352.464449\n 519  2820.170433  1352.917779\n 533  2819.695147  1353.420484\n 547  2819.173841  1353.969703\n 561  2818.694261  1354.475953)"
     },
     "execution_count": 6,
     "metadata": {},
     "output_type": "execute_result"
    }
   ],
   "source": [
    "afl[5].current_seq\n",
    "afl[5].get_all_traj_for_train()"
   ],
   "metadata": {
    "collapsed": false,
    "pycharm": {
     "name": "#%%\n"
    }
   }
  },
  {
   "cell_type": "markdown",
   "source": [
    "#### 但是给出的方法中没有涉及除了agent以外其他车辆的路径输出方法\n",
    "我自己编写了相关方法，为：afl.get_ov_traj(track_id)"
   ],
   "metadata": {
    "collapsed": false,
    "pycharm": {
     "name": "#%% md\n"
    }
   }
  },
  {
   "cell_type": "code",
   "execution_count": 12,
   "outputs": [
    {
     "data": {
      "text/plain": "array([[ 424.76651604, 1123.10305122],\n       [ 424.74589241, 1123.19805381],\n       [ 424.75308194, 1123.1743514 ],\n       [ 424.75958938, 1123.09556427],\n       [ 424.74172991, 1123.19682596],\n       [ 424.75140716, 1123.14136587],\n       [ 424.74732277, 1123.03771281],\n       [ 424.74262799, 1123.17573502],\n       [ 424.73635526, 1123.12838771],\n       [ 424.75403876, 1123.04651037],\n       [ 424.73231844, 1123.00929136],\n       [ 424.73300557, 1123.01262598],\n       [ 424.74166635, 1123.18478091],\n       [ 424.75260829, 1123.19731611],\n       [ 424.7492557 , 1123.21873211],\n       [ 424.74051076, 1123.19258492],\n       [ 424.74633505, 1123.16898447],\n       [ 424.74795186, 1123.16459211],\n       [ 424.74680061, 1123.18358389],\n       [ 424.77550412, 1123.0758336 ],\n       [ 424.78845092, 1123.09108969],\n       [ 424.74628715, 1123.0701952 ],\n       [ 424.75468606, 1123.11181138],\n       [ 424.75020752, 1123.17687999],\n       [ 424.74023889, 1123.17935553],\n       [ 424.76671105, 1123.07406493],\n       [ 424.76217849, 1123.25713656],\n       [ 424.74855654, 1123.26658498],\n       [ 424.77746234, 1123.33180924],\n       [ 424.79727454, 1123.29681844],\n       [ 424.83707287, 1123.08447341],\n       [ 424.83493891, 1123.08739871],\n       [ 424.83974662, 1123.12778525],\n       [ 424.85244795, 1123.16933363],\n       [ 424.88152322, 1123.26132856],\n       [ 424.86955299, 1123.31171346],\n       [ 424.9066894 , 1123.37501097],\n       [ 424.87565455, 1123.53827765],\n       [ 424.8721208 , 1123.63026001],\n       [ 424.87966364, 1123.74083087],\n       [ 424.90428078, 1123.7972211 ],\n       [ 424.94506416, 1123.88368788],\n       [ 424.95842369, 1123.93837975],\n       [ 424.98161967, 1124.01333776],\n       [ 424.99841427, 1124.12337623],\n       [ 425.03980765, 1124.28750186],\n       [ 424.79606991, 1124.85475953],\n       [ 424.90546491, 1124.89349492],\n       [ 425.04804057, 1124.93975013],\n       [ 425.29101727, 1124.90603598]])"
     },
     "execution_count": 12,
     "metadata": {},
     "output_type": "execute_result"
    }
   ],
   "source": [
    "afl[0].track_id_list\n",
    "afl[0].get_ov_traj('00000000-0000-0000-0000-000000023211')"
   ],
   "metadata": {
    "collapsed": false,
    "pycharm": {
     "name": "#%%\n"
    }
   }
  },
  {
   "cell_type": "code",
   "execution_count": 13,
   "outputs": [],
   "source": [
    "from argoverse.visualization.visualize_sequences import viz_sequence"
   ],
   "metadata": {
    "collapsed": false,
    "pycharm": {
     "name": "#%%\n"
    }
   }
  },
  {
   "cell_type": "markdown",
   "source": [
    "#### 可视化"
   ],
   "metadata": {
    "collapsed": false,
    "pycharm": {
     "name": "#%% md\n"
    }
   }
  },
  {
   "cell_type": "code",
   "execution_count": 50,
   "outputs": [
    {
     "name": "stdout",
     "output_type": "stream",
     "text": [
      "../forecasting_sample/data//2645.csv\n"
     ]
    },
    {
     "name": "stderr",
     "output_type": "stream",
     "text": [
      "E:\\数据集\\03_Argoverse\\argoverse-api-master\\argoverse\\map_representation\\map_api.py:78: VisibleDeprecationWarning: Creating an ndarray from ragged nested sequences (which is a list-or-tuple of lists-or-tuples-or ndarrays with different lengths or shapes) is deprecated. If you meant to do this, you must specify 'dtype=object' when creating the ndarray\n",
      "  lane_polygons = np.array(self.get_vector_map_lane_polygons(city_name))\n",
      "E:\\数据集\\03_Argoverse\\argoverse-api-master\\argoverse\\map_representation\\map_api.py:79: VisibleDeprecationWarning: Creating an ndarray from ragged nested sequences (which is a list-or-tuple of lists-or-tuples-or ndarrays with different lengths or shapes) is deprecated. If you meant to do this, you must specify 'dtype=object' when creating the ndarray\n",
      "  driveable_areas = np.array(self.get_vector_map_driveable_areas(city_name))\n"
     ]
    },
    {
     "data": {
      "text/plain": "<Figure size 576x504 with 1 Axes>",
      "image/png": "[encoded data removed]"
     },
     "metadata": {
      "needs_background": "light"
     },
     "output_type": "display_data"
    }
   ],
   "source": [
    "seq_path = f\"{root_dir}/2645.csv\"\n",
    "print(seq_path)\n",
    "viz_sequence(afl.get(seq_path).seq_df, show=True)"
   ],
   "metadata": {
    "collapsed": false,
    "pycharm": {
     "name": "#%%\n"
    }
   }
  },
  {
   "cell_type": "markdown",
   "source": [
    "#### 使用map api可视化"
   ],
   "metadata": {
    "collapsed": false,
    "pycharm": {
     "name": "#%% md\n"
    }
   }
  },
  {
   "cell_type": "code",
   "execution_count": 24,
   "outputs": [
    {
     "name": "stderr",
     "output_type": "stream",
     "text": [
      "E:\\数据集\\03_Argoverse\\argoverse-api-master\\argoverse\\map_representation\\map_api.py:78: VisibleDeprecationWarning: Creating an ndarray from ragged nested sequences (which is a list-or-tuple of lists-or-tuples-or ndarrays with different lengths or shapes) is deprecated. If you meant to do this, you must specify 'dtype=object' when creating the ndarray\n",
      "  lane_polygons = np.array(self.get_vector_map_lane_polygons(city_name))\n",
      "E:\\数据集\\03_Argoverse\\argoverse-api-master\\argoverse\\map_representation\\map_api.py:79: VisibleDeprecationWarning: Creating an ndarray from ragged nested sequences (which is a list-or-tuple of lists-or-tuples-or ndarrays with different lengths or shapes) is deprecated. If you meant to do this, you must specify 'dtype=object' when creating the ndarray\n",
      "  driveable_areas = np.array(self.get_vector_map_driveable_areas(city_name))\n"
     ]
    }
   ],
   "source": [
    "from argoverse.map_representation.map_api import ArgoverseMap\n",
    "avm = ArgoverseMap()"
   ],
   "metadata": {
    "collapsed": false,
    "pycharm": {
     "name": "#%%\n"
    }
   }
  },
  {
   "cell_type": "code",
   "execution_count": 45,
   "outputs": [
    {
     "name": "stdout",
     "output_type": "stream",
     "text": [
      "E:\\数据集\\03_Argoverse\\argoverse-api-master\\chenchencode\\..\\forecasting_sample\\data\\3700.csv\n"
     ]
    }
   ],
   "source": [
    "obs_len = 50\n",
    "index = 1\n",
    "seq_path = afl[0].seq_list[index]\n",
    "print(seq_path)"
   ],
   "metadata": {
    "collapsed": false,
    "pycharm": {
     "name": "#%%\n"
    }
   }
  },
  {
   "cell_type": "code",
   "execution_count": 48,
   "outputs": [
    {
     "data": {
      "text/plain": "<Figure size 576x504 with 1 Axes>",
      "image/png": "[encoded data removed]"
     },
     "metadata": {
      "needs_background": "light"
     },
     "output_type": "display_data"
    }
   ],
   "source": [
    "agent_obs_traj = afl.get(seq_path).get_ov_traj(afl.track_id_list[0])[:obs_len]\n",
    "candidate_centerlines = avm.get_candidate_centerlines_for_traj(agent_obs_traj, afl[index].city, viz=True)"
   ],
   "metadata": {
    "collapsed": false,
    "pycharm": {
     "name": "#%%\n"
    }
   }
  },
  {
   "cell_type": "code",
   "execution_count": 49,
   "outputs": [
    {
     "data": {
      "text/plain": "array([[2169.59689458,  821.24877358],\n       [2169.55451848,  821.20797658],\n       [2169.55444572,  821.20783128],\n       [2169.55455094,  821.20774331],\n       [2169.55413117,  821.20801155],\n       [2169.5542022 ,  821.20806816],\n       [2169.55422939,  821.2079166 ],\n       [2169.55443765,  821.20796838],\n       [2169.55440218,  821.20819519],\n       [2169.55432827,  821.20821704],\n       [2169.55432412,  821.20828268],\n       [2169.55424398,  821.20828768],\n       [2169.55423628,  821.20854122],\n       [2169.55395146,  821.20860453],\n       [2169.55390242,  821.20854893],\n       [2169.5538425 ,  821.20850187],\n       [2169.55315643,  821.20753037],\n       [2169.54888971,  821.20322144],\n       [2169.54187144,  821.1959895 ],\n       [2169.52071518,  821.17207132],\n       [2169.48460221,  821.13617899],\n       [2169.43800301,  821.08921728],\n       [2169.36415869,  821.01461614],\n       [2169.28864819,  820.93737753],\n       [2169.19607173,  820.8410511 ],\n       [2169.09809587,  820.73946371],\n       [2168.99590546,  820.63396539],\n       [2168.86769574,  820.50234923],\n       [2168.74337114,  820.3743927 ],\n       [2168.58997391,  820.21744289],\n       [2168.42925483,  820.05297483],\n       [2168.27439641,  819.89507878],\n       [2168.08564819,  819.70498483],\n       [2167.91069135,  819.52911215],\n       [2167.70486682,  819.32373427],\n       [2167.50834281,  819.12926474],\n       [2167.27656552,  818.90287236],\n       [2167.06229487,  818.69418601],\n       [2166.81502604,  818.45603248],\n       [2166.58611366,  818.23749802],\n       [2166.34495009,  818.01041954],\n       [2166.07788711,  817.75782101],\n       [2165.82191523,  817.52617847],\n       [2165.56358908,  817.28965284],\n       [2165.24512464,  816.9978139 ],\n       [2164.85208604,  816.64786173],\n       [2164.47539521,  816.31589156],\n       [2164.14243921,  816.02395983],\n       [2163.80269853,  815.72672182],\n       [2163.49033341,  815.45348706]])"
     },
     "execution_count": 49,
     "metadata": {},
     "output_type": "execute_result"
    }
   ],
   "source": [
    "agent_obs_traj"
   ],
   "metadata": {
    "collapsed": false,
    "pycharm": {
     "name": "#%%\n"
    }
   }
  },
  {
   "cell_type": "code",
   "execution_count": null,
   "outputs": [],
   "source": [],
   "metadata": {
    "collapsed": false,
    "pycharm": {
     "name": "#%%\n"
    }
   }
  }
 ],
 "metadata": {
  "kernelspec": {
   "name": "pycharm-f3ed17a5",
   "language": "python",
   "display_name": "PyCharm (argoverse-api-master)"
  },
  "language_info": {
   "codemirror_mode": {
    "name": "ipython",
    "version": 2
   },
   "file_extension": ".py",
   "mimetype": "text/x-python",
   "name": "python",
   "nbconvert_exporter": "python",
   "pygments_lexer": "ipython2",
   "version": "2.7.6"
  }
 },
 "nbformat": 4,
 "nbformat_minor": 0
}