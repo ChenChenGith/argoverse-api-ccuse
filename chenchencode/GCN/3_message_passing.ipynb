{
 "cells": [
  {
   "cell_type": "code",
   "execution_count": 1,
   "metadata": {},
   "outputs": [],
   "source": [
    "%matplotlib inline"
   ]
  },
  {
   "cell_type": "markdown",
   "metadata": {},
   "source": [
    "\n",
    "Write your own GNN module\n",
    "=========================\n",
    "\n",
    "Sometimes, your model goes beyond simply stacking existing GNN modules.\n",
    "For example, you would like to invent a new way of aggregating neighbor\n",
    "information by considering node importance or edge weights.\n",
    "\n",
    "By the end of this tutorial you will be able to\n",
    "\n",
    "-  Understand DGL’s message passing APIs.\n",
    "-  Implement GraphSAGE convolution module by your own.\n",
    "\n",
    "This tutorial assumes that you already know :doc:`the basics of training a\n",
    "GNN for node classification <1_introduction>`.\n",
    "\n",
    "(Time estimate: 10 minutes)\n"
   ]
  },
  {
   "cell_type": "code",
   "execution_count": 2,
   "metadata": {},
   "outputs": [
    {
     "name": "stderr",
     "output_type": "stream",
     "text": [
      "Using backend: pytorch\n"
     ]
    }
   ],
   "source": [
    "import dgl\n",
    "import torch\n",
    "import torch.nn as nn\n",
    "import torch.nn.functional as F"
   ]
  },
  {
   "cell_type": "markdown",
   "metadata": {},
   "source": [
    "Message passing and GNNs\n",
    "------------------------\n",
    "\n",
    "DGL follows the *message passing paradigm* inspired by the Message\n",
    "Passing Neural Network proposed by `Gilmer et\n",
    "al. <https://arxiv.org/abs/1704.01212>`__ Essentially, they found many\n",
    "GNN models can fit into the following framework:\n",
    "\n",
    "\\begin{align}m_{u\\to v}^{(l)} = M^{(l)}\\left(h_v^{(l-1)}, h_u^{(l-1)}, e_{u\\to v}^{(l-1)}\\right)\\end{align}\n",
    "\n",
    "\\begin{align}m_{v}^{(l)} = \\sum_{u\\in\\mathcal{N}(v)}m_{u\\to v}^{(l)}\\end{align}\n",
    "\n",
    "\\begin{align}h_v^{(l)} = U^{(l)}\\left(h_v^{(l-1)}, m_v^{(l)}\\right)\\end{align}\n",
    "\n",
    "where DGL calls $M^{(l)}$ the *message function*, $\\sum$ the\n",
    "*reduce function* and $U^{(l)}$ the *update function*. Note that\n",
    "$\\sum$ here can represent any function and is not necessarily a\n",
    "summation.\n",
    "\n",
    "\n"
   ]
  },
  {
   "cell_type": "markdown",
   "metadata": {},
   "source": [
    "For example, the `GraphSAGE convolution (Hamilton et al.,\n",
    "2017) <https://cs.stanford.edu/people/jure/pubs/graphsage-nips17.pdf>`__\n",
    "takes the following mathematical form:\n",
    "\n",
    "\\begin{align}h_{\\mathcal{N}(v)}^k\\leftarrow \\text{Average}\\{h_u^{k-1},\\forall u\\in\\mathcal{N}(v)\\}\\end{align}\n",
    "\n",
    "\\begin{align}h_v^k\\leftarrow \\text{ReLU}\\left(W^k\\cdot \\text{CONCAT}(h_v^{k-1}, h_{\\mathcal{N}(v)}^k) \\right)\\end{align}\n",
    "\n",
    "You can see that message passing is directional: the message sent from\n",
    "one node $u$ to other node $v$ is not necessarily the same\n",
    "as the other message sent from node $v$ to node $u$ in the\n",
    "opposite direction.\n",
    "\n",
    "Although DGL has builtin support of GraphSAGE via\n",
    ":class:`dgl.nn.SAGEConv <dgl.nn.pytorch.SAGEConv>`,\n",
    "here is how you can implement GraphSAGE convolution in DGL by your own.\n",
    "\n",
    "\n"
   ]
  },
  {
   "cell_type": "code",
   "execution_count": 3,
   "metadata": {},
   "outputs": [],
   "source": [
    "import dgl.function as fn\n",
    "\n",
    "class SAGEConv(nn.Module):\n",
    "    \"\"\"Graph convolution module used by the GraphSAGE model.\n",
    "    \n",
    "    Parameters\n",
    "    ----------\n",
    "    in_feat : int\n",
    "        Input feature size.\n",
    "    out_feat : int\n",
    "        Output feature size.\n",
    "    \"\"\"\n",
    "    def __init__(self, in_feat, out_feat):\n",
    "        super(SAGEConv, self).__init__()\n",
    "        # A linear submodule for projecting the input and neighbor feature to the output.\n",
    "        self.linear = nn.Linear(in_feat * 2, out_feat)\n",
    "    \n",
    "    def forward(self, g, h):\n",
    "        \"\"\"Forward computation\n",
    "        \n",
    "        Parameters\n",
    "        ----------\n",
    "        g : Graph\n",
    "            The input graph.\n",
    "        h : Tensor\n",
    "            The input node feature.\n",
    "        \"\"\"\n",
    "        with g.local_scope():\n",
    "            g.ndata['h'] = h\n",
    "            # update_all is a message passing API.\n",
    "            g.update_all(message_func=fn.copy_u('h', 'm'), reduce_func=fn.mean('m', 'h_N'))\n",
    "            h_N = g.ndata['h_N']\n",
    "            h_total = torch.cat([h, h_N], dim=1)\n",
    "            return self.linear(h_total)"
   ]
  },
  {
   "cell_type": "markdown",
   "metadata": {},
   "source": [
    "The central piece in this code is the\n",
    ":func:`g.update_all <dgl.DGLGraph.update_all>`\n",
    "function, which gathers and averages the neighbor features. There are\n",
    "three concepts here:\n",
    "\n",
    "* Message function ``fn.copy_u('h', 'm')`` that\n",
    "  copies the node feature under name ``'h'`` as *messages* sent to\n",
    "  neighbors.\n",
    "\n",
    "* Reduce function ``fn.mean('m', 'h_N')`` that averages\n",
    "  all the received messages under name ``'m'`` and saves the result as a\n",
    "  new node feature ``'h_N'``.\n",
    "\n",
    "* ``update_all`` tells DGL to trigger the\n",
    "  message and reduce functions for all the nodes and edges.\n",
    "\n",
    "\n"
   ]
  },
  {
   "cell_type": "markdown",
   "metadata": {},
   "source": [
    "Afterwards, you can stack your own GraphSAGE convolution layers to form\n",
    "a multi-layer GraphSAGE network.\n",
    "\n",
    "\n"
   ]
  },
  {
   "cell_type": "code",
   "execution_count": 4,
   "metadata": {},
   "outputs": [],
   "source": [
    "class Model(nn.Module):\n",
    "    def __init__(self, in_feats, h_feats, num_classes):\n",
    "        super(Model, self).__init__()\n",
    "        self.conv1 = SAGEConv(in_feats, h_feats)\n",
    "        self.conv2 = SAGEConv(h_feats, num_classes)\n",
    "    \n",
    "    def forward(self, g, in_feat):\n",
    "        h = self.conv1(g, in_feat)\n",
    "        h = F.relu(h)\n",
    "        h = self.conv2(g, h)\n",
    "        return h"
   ]
  },
  {
   "cell_type": "markdown",
   "metadata": {},
   "source": [
    "Training loop\n",
    "~~~~~~~~~~~~~\n",
    "The following code for data loading and training loop is directly copied\n",
    "from the introduction tutorial.\n",
    "\n",
    "\n"
   ]
  },
  {
   "cell_type": "code",
   "execution_count": 6,
   "metadata": {},
   "outputs": [
    {
     "name": "stdout",
     "output_type": "stream",
     "text": [
      "  NumNodes: 2708\n",
      "  NumEdges: 10556\n",
      "  NumFeats: 1433\n",
      "  NumClasses: 7\n",
      "  NumTrainingSamples: 140\n",
      "  NumValidationSamples: 500\n",
      "  NumTestSamples: 1000\n",
      "Done loading data from cached files.\n",
      "In epoch 0, loss: 1.953, val acc: 0.156 (best 0.156), test acc: 0.144 (best 0.144)\n",
      "In epoch 5, loss: 1.868, val acc: 0.304 (best 0.304), test acc: 0.298 (best 0.298)\n",
      "In epoch 10, loss: 1.706, val acc: 0.576 (best 0.576), test acc: 0.594 (best 0.594)\n",
      "In epoch 15, loss: 1.463, val acc: 0.640 (best 0.640), test acc: 0.644 (best 0.644)\n",
      "In epoch 20, loss: 1.151, val acc: 0.664 (best 0.664), test acc: 0.682 (best 0.682)\n",
      "In epoch 25, loss: 0.813, val acc: 0.700 (best 0.700), test acc: 0.718 (best 0.718)\n",
      "In epoch 30, loss: 0.514, val acc: 0.730 (best 0.730), test acc: 0.738 (best 0.738)\n",
      "In epoch 35, loss: 0.297, val acc: 0.754 (best 0.754), test acc: 0.759 (best 0.759)\n",
      "In epoch 40, loss: 0.164, val acc: 0.760 (best 0.762), test acc: 0.758 (best 0.755)\n",
      "In epoch 45, loss: 0.092, val acc: 0.758 (best 0.762), test acc: 0.754 (best 0.755)\n",
      "In epoch 50, loss: 0.055, val acc: 0.762 (best 0.762), test acc: 0.753 (best 0.755)\n",
      "In epoch 55, loss: 0.035, val acc: 0.760 (best 0.762), test acc: 0.756 (best 0.755)\n",
      "In epoch 60, loss: 0.024, val acc: 0.760 (best 0.762), test acc: 0.755 (best 0.755)\n",
      "In epoch 65, loss: 0.018, val acc: 0.758 (best 0.762), test acc: 0.754 (best 0.755)\n",
      "In epoch 70, loss: 0.014, val acc: 0.758 (best 0.762), test acc: 0.752 (best 0.755)\n",
      "In epoch 75, loss: 0.012, val acc: 0.756 (best 0.762), test acc: 0.750 (best 0.755)\n",
      "In epoch 80, loss: 0.010, val acc: 0.760 (best 0.762), test acc: 0.754 (best 0.755)\n",
      "In epoch 85, loss: 0.009, val acc: 0.760 (best 0.762), test acc: 0.753 (best 0.755)\n",
      "In epoch 90, loss: 0.008, val acc: 0.760 (best 0.762), test acc: 0.754 (best 0.755)\n",
      "In epoch 95, loss: 0.007, val acc: 0.760 (best 0.762), test acc: 0.754 (best 0.755)\n",
      "In epoch 100, loss: 0.007, val acc: 0.764 (best 0.764), test acc: 0.755 (best 0.755)\n",
      "In epoch 105, loss: 0.006, val acc: 0.764 (best 0.764), test acc: 0.754 (best 0.755)\n",
      "In epoch 110, loss: 0.006, val acc: 0.764 (best 0.764), test acc: 0.755 (best 0.755)\n",
      "In epoch 115, loss: 0.005, val acc: 0.764 (best 0.764), test acc: 0.755 (best 0.755)\n",
      "In epoch 120, loss: 0.005, val acc: 0.764 (best 0.766), test acc: 0.755 (best 0.755)\n",
      "In epoch 125, loss: 0.005, val acc: 0.764 (best 0.766), test acc: 0.757 (best 0.755)\n",
      "In epoch 130, loss: 0.004, val acc: 0.764 (best 0.766), test acc: 0.757 (best 0.755)\n",
      "In epoch 135, loss: 0.004, val acc: 0.764 (best 0.766), test acc: 0.759 (best 0.755)\n",
      "In epoch 140, loss: 0.004, val acc: 0.764 (best 0.766), test acc: 0.759 (best 0.755)\n",
      "In epoch 145, loss: 0.004, val acc: 0.764 (best 0.766), test acc: 0.759 (best 0.755)\n",
      "In epoch 150, loss: 0.004, val acc: 0.762 (best 0.766), test acc: 0.759 (best 0.755)\n",
      "In epoch 155, loss: 0.003, val acc: 0.762 (best 0.766), test acc: 0.759 (best 0.755)\n",
      "In epoch 160, loss: 0.003, val acc: 0.764 (best 0.766), test acc: 0.759 (best 0.755)\n",
      "In epoch 165, loss: 0.003, val acc: 0.764 (best 0.766), test acc: 0.758 (best 0.755)\n",
      "In epoch 170, loss: 0.003, val acc: 0.766 (best 0.766), test acc: 0.759 (best 0.755)\n",
      "In epoch 175, loss: 0.003, val acc: 0.766 (best 0.766), test acc: 0.759 (best 0.755)\n",
      "In epoch 180, loss: 0.003, val acc: 0.766 (best 0.766), test acc: 0.759 (best 0.755)\n",
      "In epoch 185, loss: 0.003, val acc: 0.766 (best 0.766), test acc: 0.758 (best 0.755)\n",
      "In epoch 190, loss: 0.002, val acc: 0.766 (best 0.766), test acc: 0.758 (best 0.755)\n",
      "In epoch 195, loss: 0.002, val acc: 0.766 (best 0.766), test acc: 0.758 (best 0.755)\n"
     ]
    }
   ],
   "source": [
    "import dgl.data\n",
    "\n",
    "dataset = dgl.data.CoraGraphDataset()\n",
    "g = dataset[0]\n",
    "\n",
    "def train(g, model):\n",
    "    optimizer = torch.optim.Adam(model.parameters(), lr=0.01)\n",
    "    all_logits = []\n",
    "    best_val_acc = 0\n",
    "    best_test_acc = 0\n",
    "\n",
    "    features = g.ndata['feat']\n",
    "    labels = g.ndata['label']\n",
    "    train_mask = g.ndata['train_mask']\n",
    "    val_mask = g.ndata['val_mask']\n",
    "    test_mask = g.ndata['test_mask']\n",
    "    for e in range(200):\n",
    "        # Forward\n",
    "        logits = model(g, features)\n",
    "\n",
    "        # Compute prediction\n",
    "        pred = logits.argmax(1)\n",
    "\n",
    "        # Compute loss\n",
    "        # Note that we should only compute the losses of the nodes in the training set,\n",
    "        # i.e. with train_mask 1.\n",
    "        loss = F.cross_entropy(logits[train_mask], labels[train_mask])\n",
    "\n",
    "        # Compute accuracy on training/validation/test\n",
    "        train_acc = (pred[train_mask] == labels[train_mask]).float().mean()\n",
    "        val_acc = (pred[val_mask] == labels[val_mask]).float().mean()\n",
    "        test_acc = (pred[test_mask] == labels[test_mask]).float().mean()\n",
    "\n",
    "        # Save the best validation accuracy and the corresponding test accuracy.\n",
    "        if best_val_acc < val_acc:\n",
    "            best_val_acc = val_acc\n",
    "            best_test_acc = test_acc\n",
    "\n",
    "        # Backward\n",
    "        optimizer.zero_grad()\n",
    "        loss.backward()\n",
    "        optimizer.step()\n",
    "        all_logits.append(logits.detach())\n",
    "\n",
    "        if e % 5 == 0:\n",
    "            print('In epoch {}, loss: {:.3f}, val acc: {:.3f} (best {:.3f}), test acc: {:.3f} (best {:.3f})'.format(\n",
    "                e, loss, val_acc, best_val_acc, test_acc, best_test_acc))\n",
    "\n",
    "model = Model(g.ndata['feat'].shape[1], 16, dataset.num_classes)\n",
    "train(g, model)"
   ]
  },
  {
   "cell_type": "markdown",
   "metadata": {},
   "source": [
    "More customization\n",
    "------------------\n",
    "\n",
    "In DGL, we provide many built-in message and reduce functions under the\n",
    "``dgl.function`` package. You can find more details in `the API\n",
    "doc <apifunction>`.\n",
    "\n",
    "\n"
   ]
  },
  {
   "cell_type": "markdown",
   "metadata": {},
   "source": [
    "These APIs allow one to quickly implement new graph convolution modules.\n",
    "For example, the following implements a new ``SAGEConv`` that aggregates\n",
    "neighbor representations using a weighted average. Note that ``edata``\n",
    "member can hold edge features which can also take part in message\n",
    "passing.\n",
    "\n",
    "\n"
   ]
  },
  {
   "cell_type": "code",
   "execution_count": null,
   "metadata": {},
   "outputs": [],
   "source": [
    "class WeightedSAGEConv(nn.Module):\n",
    "    \"\"\"Graph convolution module used by the GraphSAGE model with edge weights.\n",
    "    \n",
    "    Parameters\n",
    "    ----------\n",
    "    in_feat : int\n",
    "        Input feature size.\n",
    "    out_feat : int\n",
    "        Output feature size.\n",
    "    \"\"\"\n",
    "    def __init__(self, in_feat, out_feat):\n",
    "        super(WeightedSAGEConv, self).__init__()\n",
    "        # A linear submodule for projecting the input and neighbor feature to the output.\n",
    "        self.linear = nn.Linear(in_feat * 2, out_feat)\n",
    "    \n",
    "    def forward(self, g, h, w):\n",
    "        \"\"\"Forward computation\n",
    "        \n",
    "        Parameters\n",
    "        ----------\n",
    "        g : Graph\n",
    "            The input graph.\n",
    "        h : Tensor\n",
    "            The input node feature.\n",
    "        w : Tensor\n",
    "            The edge weight.\n",
    "        \"\"\"\n",
    "        with g.local_scope():\n",
    "            g.ndata['h'] = h\n",
    "            g.edata['w'] = w\n",
    "            g.update_all(message_func=fn.u_mul_e('h', 'w', 'm'), reduce_func=fn.mean('m', 'h_N'))\n",
    "            h_N = g.ndata['h_N']\n",
    "            h_total = torch.cat([h, h_N], dim=1)\n",
    "            return self.linear(h_total)"
   ]
  },
  {
   "cell_type": "markdown",
   "metadata": {},
   "source": [
    "Because the graph in this dataset does not have edge weights, we\n",
    "manually assign all edge weights to one in the ``forward()`` function of\n",
    "the model. You can replace it with your own edge weights.\n",
    "\n",
    "\n"
   ]
  },
  {
   "cell_type": "code",
   "execution_count": null,
   "metadata": {},
   "outputs": [],
   "source": [
    "class Model(nn.Module):\n",
    "    def __init__(self, in_feats, h_feats, num_classes):\n",
    "        super(Model, self).__init__()\n",
    "        self.conv1 = WeightedSAGEConv(in_feats, h_feats)\n",
    "        self.conv2 = WeightedSAGEConv(h_feats, num_classes)\n",
    "    \n",
    "    def forward(self, g, in_feat):\n",
    "        h = self.conv1(g, in_feat, torch.ones(g.num_edges()).to(g.device))\n",
    "        h = F.relu(h)\n",
    "        h = self.conv2(g, h, torch.ones(g.num_edges()).to(g.device))\n",
    "        return h\n",
    "    \n",
    "model = Model(g.ndata['feat'].shape[1], 16, dataset.num_classes)\n",
    "train(g, model)"
   ]
  },
  {
   "cell_type": "markdown",
   "metadata": {},
   "source": [
    "Even more customization by user-defined function\n",
    "------------------------------------------------\n",
    "\n",
    "DGL allows user-defined message and reduce function for the maximal\n",
    "expressiveness. Here is a user-defined message function that is\n",
    "equivalent to ``fn.u_mul_e('h', 'w', 'm')``.\n",
    "\n",
    "\n"
   ]
  },
  {
   "cell_type": "code",
   "execution_count": null,
   "metadata": {},
   "outputs": [],
   "source": [
    "def u_mul_e_udf(edges):\n",
    "    return {'m' : edges.src['h'] * edges.data['w']}"
   ]
  },
  {
   "cell_type": "markdown",
   "metadata": {},
   "source": [
    "``edges`` has three members: ``src``, ``data`` and ``dst``, representing\n",
    "the source node feature, edge feature, and destination node feature for\n",
    "all edges.\n",
    "\n",
    "\n"
   ]
  },
  {
   "cell_type": "markdown",
   "metadata": {},
   "source": [
    "You can also write your own reduce function. For example, the following\n",
    "is equivalent to the builtin ``fn.sum('m', 'h')`` function that sums up\n",
    "the incoming messages:\n",
    "\n",
    "\n"
   ]
  },
  {
   "cell_type": "code",
   "execution_count": null,
   "metadata": {},
   "outputs": [],
   "source": [
    "def sum_udf(nodes):\n",
    "    return {'h': nodes.mailbox['m'].sum(1)}"
   ]
  },
  {
   "cell_type": "markdown",
   "metadata": {},
   "source": [
    "In short, DGL will group the nodes by their in-degrees, and for each\n",
    "group DGL stacks the incoming messages along the second dimension. You \n",
    "can then perform a reduction along the second dimension to aggregate\n",
    "messages.\n",
    "\n",
    "For more details on customizing message and reduce function with\n",
    "user-defined function, please refer to the `API\n",
    "reference <apiudf>`.\n",
    "\n",
    "\n"
   ]
  },
  {
   "cell_type": "markdown",
   "metadata": {},
   "source": [
    "Best practice of writing custom GNN modules\n",
    "-------------------------------------------\n",
    "\n",
    "DGL recommends the following practice ranked by preference:\n",
    "\n",
    "-  Use ``dgl.nn`` modules.\n",
    "-  Use ``dgl.nn.functional`` functions which contain lower-level complex\n",
    "   operations such as computing a softmax for each node over incoming\n",
    "   edges.\n",
    "-  Use ``update_all`` with builtin message and reduce functions.\n",
    "-  Use user-defined message or reduce functions.\n",
    "\n",
    "\n"
   ]
  },
  {
   "cell_type": "markdown",
   "metadata": {},
   "source": [
    "What’s next?\n",
    "------------\n",
    "\n",
    "-  `Writing Efficient Message Passing\n",
    "   Code <guide-message-passing-efficient>`.\n",
    "\n",
    "\n"
   ]
  },
  {
   "cell_type": "code",
   "execution_count": null,
   "metadata": {},
   "outputs": [],
   "source": [
    "# Thumbnail Courtesy: Representation Learning on Networks, Jure Leskovec, WWW 2018\n",
    "# sphinx_gallery_thumbnail_path = '_static/blitz_3_message_passing.png'"
   ]
  }
 ],
 "metadata": {
  "kernelspec": {
   "display_name": "PyCharm (argoverse-api-master)",
   "language": "python",
   "name": "pycharm-f3ed17a5"
  },
  "language_info": {
   "codemirror_mode": {
    "name": "ipython",
    "version": 3
   },
   "file_extension": ".py",
   "mimetype": "text/x-python",
   "name": "python",
   "nbconvert_exporter": "python",
   "pygments_lexer": "ipython3",
   "version": "3.7.9"
  }
 },
 "nbformat": 4,
 "nbformat_minor": 1
}