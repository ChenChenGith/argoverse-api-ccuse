{
 "cells": [
  {
   "cell_type": "code",
   "execution_count": 2,
   "metadata": {
    "collapsed": true
   },
   "outputs": [
    {
     "name": "stderr",
     "output_type": "stream",
     "text": [
      "Using backend: pytorch\n"
     ]
    }
   ],
   "source": [
    "import dgl\n",
    "import torch as th"
   ]
  },
  {
   "cell_type": "markdown",
   "source": [
    "# 图"
   ],
   "metadata": {
    "collapsed": false,
    "pycharm": {
     "name": "#%% md\n"
    }
   }
  },
  {
   "cell_type": "code",
   "execution_count": 3,
   "outputs": [
    {
     "name": "stdout",
     "output_type": "stream",
     "text": [
      "g Graph(num_nodes=4, num_edges=4,\n",
      "      ndata_schemes={}\n",
      "      edata_schemes={})\n",
      "nodes tensor([0, 1, 2, 3])\n",
      "edges (tensor([0, 0, 0, 1]), tensor([1, 2, 3, 3]))\n"
     ]
    }
   ],
   "source": [
    "# 有向图\n",
    "# 边 0->1, 0->2, 0->3, 1->3\n",
    "u, v = th.tensor([0,0,0,1]), th.tensor([1,2,3,3])\n",
    "g = dgl.graph((u, v))\n",
    "print('g', g)\n",
    "print('nodes', g.nodes())\n",
    "print('edges',g.edges())"
   ],
   "metadata": {
    "collapsed": false,
    "pycharm": {
     "name": "#%%\n"
    }
   }
  },
  {
   "cell_type": "code",
   "execution_count": 4,
   "outputs": [
    {
     "data": {
      "text/plain": "(tensor([0, 0, 0, 1, 1, 2, 3, 3]), tensor([1, 2, 3, 0, 3, 0, 0, 1]))"
     },
     "execution_count": 4,
     "metadata": {},
     "output_type": "execute_result"
    }
   ],
   "source": [
    "# 无向图\n",
    "bg = dgl.to_bidirected(g)\n",
    "bg.edges()\n"
   ],
   "metadata": {
    "collapsed": false,
    "pycharm": {
     "name": "#%%\n"
    }
   }
  },
  {
   "cell_type": "code",
   "execution_count": 20,
   "outputs": [
    {
     "name": "stdout",
     "output_type": "stream",
     "text": [
      "Graph(num_nodes=4, num_edges=4,\n",
      "      ndata_schemes={'x': Scheme(shape=(3,), dtype=torch.float32), 'y': Scheme(shape=(5,), dtype=torch.float32)}\n",
      "      edata_schemes={'x': Scheme(shape=(), dtype=torch.int32), 'y': Scheme(shape=(2,), dtype=torch.int32)})\n",
      "feature of vertex 1 =x tensor([1., 1., 1.])\n",
      "feature of edge 0 and 3 =x tensor([1, 1], dtype=torch.int32)\n",
      "feature of edge 1 and 2 =y tensor([[1, 1],\n",
      "        [1, 1]], dtype=torch.int32)\n"
     ]
    }
   ],
   "source": [
    "# 节点特征，其中x特征为3维向量，y特征为5维向量\n",
    "g.ndata['x'] = th.ones(g.num_nodes(), 3)\n",
    "g.ndata['y'] = th.randn(g.num_nodes(), 5)\n",
    "# 边特征，x特征是标量，y特征是2维向量\n",
    "g.edata['x'] = th.ones(g.num_edges(), dtype=th.int32)\n",
    "g.edata['y'] = th.ones(g.num_edges(), 2, dtype=th.int32)\n",
    "print(g)\n",
    "print('feature of vertex 1 =x', g.ndata['x'][1])\n",
    "print('feature of edge 0 and 3 =x', g.edata['x'][th.tensor([0, 3])])\n",
    "print('feature of edge 1 and 2 =y', g.edata['y'][th.tensor([1, 2])])\n",
    "# 注意：需要一次性赋值所有点或边，无法赋值子图"
   ],
   "metadata": {
    "collapsed": false,
    "pycharm": {
     "name": "#%%\n"
    }
   }
  },
  {
   "cell_type": "code",
   "execution_count": 24,
   "outputs": [
    {
     "name": "stdout",
     "output_type": "stream",
     "text": [
      "Graph(num_nodes=4, num_edges=4,\n",
      "      ndata_schemes={'x': Scheme(shape=(3,), dtype=torch.float32), 'y': Scheme(shape=(5,), dtype=torch.float32)}\n",
      "      edata_schemes={'x': Scheme(shape=(), dtype=torch.int32), 'y': Scheme(shape=(2,), dtype=torch.int32), 'w': Scheme(shape=(), dtype=torch.float32)})\n"
     ]
    }
   ],
   "source": [
    "# 对于加权图，可以将权重储存为一个边特征\n",
    "weight = th.tensor([0.1,0.6,0.8,0.2])\n",
    "g.edata['w'] = weight\n",
    "print(g)"
   ],
   "metadata": {
    "collapsed": false,
    "pycharm": {
     "name": "#%%\n"
    }
   }
  },
  {
   "cell_type": "code",
   "execution_count": 159,
   "outputs": [
    {
     "name": "stdout",
     "output_type": "stream",
     "text": [
      "NodeSpace(data={'xx': tensor([[1.],\n",
      "        [1.],\n",
      "        [1.]])})\n",
      "Graph(num_nodes={'disease': 3, 'drug': 3, 'gene': 4},\n",
      "      num_edges={('drug', 'interacts', 'drug'): 2, ('drug', 'interacts', 'gene'): 2, ('drug', 'treats', 'disease'): 1},\n",
      "      metagraph=[('drug', 'drug', 'interacts'), ('drug', 'gene', 'interacts'), ('drug', 'disease', 'treats')])\n",
      "[('drug', 'drug'), ('drug', 'gene'), ('drug', 'disease')]\n"
     ]
    }
   ],
   "source": [
    "# 异构图\n",
    "graph_data = {\n",
    "   ('drug', 'interacts', 'drug'): (th.tensor([0, 1]), th.tensor([1, 2])),\n",
    "   ('drug', 'interacts', 'gene'): (th.tensor([0, 1]), th.tensor([2, 3])),\n",
    "   ('drug', 'treats', 'disease'): (th.tensor([1]), th.tensor([2]))\n",
    "}\n",
    "# 不同的节点类型有各自的单独一套ID\n",
    "# 这个字典表示 drug类型节点有0，1，2共三个，disease类型节点有0，1，2共3个，gene类型节点有0，1，2，3共四个\n",
    "# gene节点中只有g1和g2有连接边，其他两个没有\n",
    "g = dgl.heterograph(graph_data)\n",
    "g.nodes['drug'].data['xx'] = th.ones(3, 1)\n",
    "print(g.nodes['drug'])\n",
    "print(g)\n",
    "print(g.metagraph().edges())"
   ],
   "metadata": {
    "collapsed": false,
    "pycharm": {
     "name": "#%%\n"
    }
   }
  },
  {
   "cell_type": "code",
   "execution_count": 161,
   "outputs": [
    {
     "name": "stdout",
     "output_type": "stream",
     "text": [
      "[('drug', 'interacts', 'drug'), ('drug', 'interacts', 'gene'), ('drug', 'treats', 'disease')]\n",
      "('drug', 'interacts', 'drug')\n",
      "('drug', 'interacts', 'gene')\n",
      "('drug', 'treats', 'disease')\n",
      "NodeSpace(data={'xx': tensor([[1.],\n",
      "        [1.],\n",
      "        [1.]])})\n",
      "NodeSpace(data={'xx': tensor([[1.],\n",
      "        [1.],\n",
      "        [1.]]), 'h': tensor([[0.0000e+00],\n",
      "        [1.8980e+01],\n",
      "        [1.1314e-14]])})\n",
      "NodeSpace(data={'xx': tensor([[1.],\n",
      "        [1.],\n",
      "        [1.]])})\n"
     ]
    },
    {
     "name": "stderr",
     "output_type": "stream",
     "text": [
      "D:\\ProgramData\\Anaconda3\\lib\\site-packages\\ipykernel_launcher.py:6: UserWarning: To copy construct from a tensor, it is recommended to use sourceTensor.clone().detach() or sourceTensor.clone().detach().requires_grad_(True), rather than torch.tensor(sourceTensor).\n",
      "  \n"
     ]
    }
   ],
   "source": [
    "print(g.canonical_etypes)\n",
    "for c_etype in g.canonical_etypes:\n",
    "    print(c_etype)\n",
    "print(g.nodes['drug'])\n",
    "with g.local_scope():\n",
    "    g.nodes['drug'].data['h'] = th.tensor(th.FloatTensor(3,1))\n",
    "    print(g.nodes['drug'])\n",
    "print(g.nodes['drug'])"
   ],
   "metadata": {
    "collapsed": false,
    "pycharm": {
     "name": "#%%\n"
    }
   }
  },
  {
   "cell_type": "code",
   "execution_count": 47,
   "outputs": [
    {
     "name": "stdout",
     "output_type": "stream",
     "text": [
      "all nodes 10\n",
      "drug nodes 3\n",
      "gene nodes tensor([0, 1, 2, 3])\n",
      "all edges 5\n"
     ]
    }
   ],
   "source": [
    "# 各种类型的节点数量\n",
    "print('all nodes', g.num_nodes())\n",
    "print('drug nodes', g.num_nodes('drug'))\n",
    "# 如果使用nodes需要指定类型\n",
    "print('gene nodes', g.nodes('gene'))\n",
    "print('all edges', g.num_edges())"
   ],
   "metadata": {
    "collapsed": false,
    "pycharm": {
     "name": "#%%\n"
    }
   }
  },
  {
   "cell_type": "code",
   "execution_count": 49,
   "outputs": [
    {
     "name": "stdout",
     "output_type": "stream",
     "text": [
      "Graph(num_nodes={'disease': 3, 'drug': 3, 'gene': 4},\n",
      "      num_edges={('drug', 'interacts', 'drug'): 2, ('drug', 'interacts', 'gene'): 2, ('drug', 'treats', 'disease'): 1},\n",
      "      metagraph=[('drug', 'drug', 'interacts'), ('drug', 'gene', 'interacts'), ('drug', 'disease', 'treats')])\n",
      "tensor([[1.],\n",
      "        [1.],\n",
      "        [1.]])\n"
     ]
    }
   ],
   "source": [
    "# 获取额点节点/边的特征\n",
    "g.nodes['drug'].data['hv'] = th.ones(3,1)\n",
    "print(g)\n",
    "print(g.nodes['drug'].data['hv'])"
   ],
   "metadata": {
    "collapsed": false,
    "pycharm": {
     "name": "#%%\n"
    }
   }
  },
  {
   "cell_type": "code",
   "execution_count": 55,
   "outputs": [
    {
     "name": "stdout",
     "output_type": "stream",
     "text": [
      "Graph(num_nodes=10, num_edges=5,\n",
      "      ndata_schemes={'_ID': Scheme(shape=(), dtype=torch.int64), '_TYPE': Scheme(shape=(), dtype=torch.int64)}\n",
      "      edata_schemes={'_ID': Scheme(shape=(), dtype=torch.int64), '_TYPE': Scheme(shape=(), dtype=torch.int64)})\n"
     ]
    }
   ],
   "source": [
    "# 将异构图转换为同构图\n",
    "hg = dgl.to_homogeneous(g)\n",
    "print(hg)"
   ],
   "metadata": {
    "collapsed": false,
    "pycharm": {
     "name": "#%%\n"
    }
   }
  },
  {
   "cell_type": "markdown",
   "source": [
    "# 消息传递"
   ],
   "metadata": {
    "collapsed": false,
    "pycharm": {
     "name": "#%% md\n"
    }
   }
  },
  {
   "cell_type": "code",
   "execution_count": 134,
   "outputs": [
    {
     "name": "stdout",
     "output_type": "stream",
     "text": [
      "Graph(num_nodes=5, num_edges=4,\n",
      "      ndata_schemes={'nx': Scheme(shape=(3,), dtype=torch.float32), 'ny': Scheme(shape=(3,), dtype=torch.float32)}\n",
      "      edata_schemes={'ex': Scheme(shape=(), dtype=torch.int32), 'ey': Scheme(shape=(2,), dtype=torch.int32)})\n"
     ]
    }
   ],
   "source": [
    "# 建立一个带属性的图\n",
    "u, v = th.tensor([0,0,0,1]), th.tensor([1,2,3,3])\n",
    "g = dgl.graph((u, v), num_nodes=5)\n",
    "g.ndata['nx'] = th.ones(g.num_nodes(), 3)\n",
    "g.ndata['ny'] = th.randn(g.num_nodes(), 3)\n",
    "g.edata['ex'] = th.ones(g.num_edges(), dtype=th.int32)\n",
    "g.edata['ey'] = th.ones(g.num_edges(), 2, dtype=th.int32)\n",
    "print(g)"
   ],
   "metadata": {
    "collapsed": false,
    "pycharm": {
     "name": "#%%\n"
    }
   }
  },
  {
   "cell_type": "code",
   "execution_count": 135,
   "outputs": [
    {
     "name": "stdout",
     "output_type": "stream",
     "text": [
      "Graph(num_nodes=5, num_edges=4,\n",
      "      ndata_schemes={'nx': Scheme(shape=(3,), dtype=torch.float32), 'ny': Scheme(shape=(3,), dtype=torch.float32)}\n",
      "      edata_schemes={'ex': Scheme(shape=(), dtype=torch.int32), 'ey': Scheme(shape=(2,), dtype=torch.int32), 'exx': Scheme(shape=(3,), dtype=torch.float32)})\n",
      "{'nx': tensor([[1., 1., 1.],\n",
      "        [1., 1., 1.],\n",
      "        [1., 1., 1.],\n",
      "        [1., 1., 1.],\n",
      "        [1., 1., 1.]]), 'ny': tensor([[ 1.9593, -0.2172, -0.3068],\n",
      "        [-0.3790,  0.0845, -0.3156],\n",
      "        [-0.2208,  0.2509, -0.4487],\n",
      "        [-1.1195, -0.4370, -0.0675],\n",
      "        [-1.9719, -0.3470, -0.1099]])}\n",
      "exx tensor([[ 0.6210,  1.0845,  0.6844],\n",
      "        [ 0.7792,  1.2509,  0.5513],\n",
      "        [-0.1195,  0.5630,  0.9325],\n",
      "        [-0.1195,  0.5630,  0.9325]])\n"
     ]
    }
   ],
   "source": [
    "# 消息函数，即边的信息计算\n",
    "fn_mas = dgl.function.u_add_v('nx','ny','exx')\n",
    "g.apply_edges(fn_mas)\n",
    "# 以上函数是将source点的nx属性与distination点的ny属性相加，然后赋值给名为exx的属性\n",
    "print(g)\n",
    "print(g.ndata)\n",
    "print('exx',g.edata['exx'])"
   ],
   "metadata": {
    "collapsed": false,
    "pycharm": {
     "name": "#%%\n"
    }
   }
  },
  {
   "cell_type": "code",
   "execution_count": 136,
   "outputs": [
    {
     "name": "stdout",
     "output_type": "stream",
     "text": [
      "Graph(num_nodes=5, num_edges=4,\n",
      "      ndata_schemes={'nx': Scheme(shape=(3,), dtype=torch.float32), 'ny': Scheme(shape=(3,), dtype=torch.float32), 'nxx': Scheme(shape=(3,), dtype=torch.float32)}\n",
      "      edata_schemes={'ex': Scheme(shape=(), dtype=torch.int32), 'ey': Scheme(shape=(2,), dtype=torch.int32), 'exx': Scheme(shape=(3,), dtype=torch.float32)})\n"
     ]
    }
   ],
   "source": [
    "# 聚合函数，即将一个节点处所有边的信息进行聚合计算\n",
    "fn_red = dgl.function.sum('exx','nxx')\n",
    "g.update_all(fn_mas, fn_red)\n",
    "print(g)"
   ],
   "metadata": {
    "collapsed": false,
    "pycharm": {
     "name": "#%%\n"
    }
   }
  },
  {
   "cell_type": "code",
   "execution_count": 142,
   "outputs": [
    {
     "name": "stdout",
     "output_type": "stream",
     "text": [
      "Graph(num_nodes=5, num_edges=4,\n",
      "      ndata_schemes={'nx': Scheme(shape=(3,), dtype=torch.float32), 'ny': Scheme(shape=(3,), dtype=torch.float32), 'nxx': Scheme(shape=(3,), dtype=torch.float32), 'nxx_src': Scheme(shape=(3,), dtype=torch.float32), 'nxx_dst': Scheme(shape=(3,), dtype=torch.float32)}\n",
      "      edata_schemes={'ex': Scheme(shape=(), dtype=torch.int32), 'ey': Scheme(shape=(2,), dtype=torch.int32), 'exx': Scheme(shape=(3,), dtype=torch.float32), 'out': Scheme(shape=(3,), dtype=torch.float32)})\n"
     ]
    }
   ],
   "source": [
    "linear_src = th.nn.Parameter(th.FloatTensor(size=(1,3)))\n",
    "linear_dst = th.nn.Parameter(th.FloatTensor(size=(1,3)))\n",
    "out_src = g.ndata['nxx'] * linear_src\n",
    "out_dst = g.ndata['nxx'] * linear_dst\n",
    "g.srcdata.update({'nxx_src':out_src})\n",
    "g.dstdata.update({'nxx_dst':out_dst})\n",
    "g.apply_edges(dgl.function.u_add_v('nxx_src','nxx_dst','out'))\n",
    "print(g)"
   ],
   "metadata": {
    "collapsed": false,
    "pycharm": {
     "name": "#%%\n"
    }
   }
  }
 ],
 "metadata": {
  "kernelspec": {
   "name": "pycharm-f3ed17a5",
   "language": "python",
   "display_name": "PyCharm (argoverse-api-master)"
  },
  "language_info": {
   "codemirror_mode": {
    "name": "ipython",
    "version": 2
   },
   "file_extension": ".py",
   "mimetype": "text/x-python",
   "name": "python",
   "nbconvert_exporter": "python",
   "pygments_lexer": "ipython2",
   "version": "2.7.6"
  }
 },
 "nbformat": 4,
 "nbformat_minor": 0
}