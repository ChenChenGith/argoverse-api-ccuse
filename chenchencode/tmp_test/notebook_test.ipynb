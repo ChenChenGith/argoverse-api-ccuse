{
 "cells": [
  {
   "cell_type": "code",
   "execution_count": 1,
   "metadata": {
    "collapsed": true
   },
   "outputs": [],
   "source": [
    "from shapely.geometry import Polygon,LineString"
   ]
  },
  {
   "cell_type": "code",
   "execution_count": 2,
   "outputs": [
    {
     "data": {
      "text/plain": "<shapely.geometry.polygon.Polygon at 0x1b87ebf80c8>",
      "image/svg+xml": "<svg xmlns=\"http://www.w3.org/2000/svg\" xmlns:xlink=\"http://www.w3.org/1999/xlink\" width=\"100.0\" height=\"100.0\" viewBox=\"4115.3910352112 9391.9302393012 4.985853447599766 2.484538537599292\" preserveAspectRatio=\"xMinYMin meet\"><g transform=\"matrix(1,0,0,-1,0,18786.34501714)\"><path fill-rule=\"evenodd\" fill=\"#66cc99\" stroke=\"#555555\" stroke-width=\"0.09971706895199532\" opacity=\"0.6\" d=\"M 4115.70360296,9392.11490054 L 4115.57569645,9393.91035033 L 4120.06432091,9394.2301166 L 4120.19222742,9392.43466682 L 4115.70360296,9392.11490054 z\" /></g></svg>"
     },
     "metadata": {},
     "output_type": "display_data"
    }
   ],
   "source": [
    "p = Polygon([[4115.70360296, 9392.11490054], [4115.57569645, 9393.91035033], [4120.06432091, 9394.2301166 ], [4120.19222742, 9392.43466682]])\n",
    "display(p)"
   ],
   "metadata": {
    "collapsed": false,
    "pycharm": {
     "name": "#%%\n"
    }
   }
  },
  {
   "cell_type": "code",
   "execution_count": 3,
   "outputs": [
    {
     "data": {
      "text/plain": "<shapely.geometry.polygon.Polygon at 0x1b87ebf80c8>",
      "image/svg+xml": "<svg xmlns=\"http://www.w3.org/2000/svg\" xmlns:xlink=\"http://www.w3.org/1999/xlink\" width=\"100.0\" height=\"100.0\" viewBox=\"4115.3910352112 9391.9302393012 4.985853447599766 2.484538537599292\" preserveAspectRatio=\"xMinYMin meet\"><g transform=\"matrix(1,0,0,-1,0,18786.34501714)\"><path fill-rule=\"evenodd\" fill=\"#66cc99\" stroke=\"#555555\" stroke-width=\"0.09971706895199532\" opacity=\"0.6\" d=\"M 4115.70360296,9392.11490054 L 4115.57569645,9393.91035033 L 4120.06432091,9394.2301166 L 4120.19222742,9392.43466682 L 4115.70360296,9392.11490054 z\" /></g></svg>"
     },
     "metadata": {},
     "output_type": "display_data"
    }
   ],
   "source": [
    "q = LineString([[4289.30948292, 9403.00921311], [4289.21244913, 9404.60292989], [4293.95792551, 9404.89185923], [4294.05495929, 9403.29814246]])\n",
    "display(p)"
   ],
   "metadata": {
    "collapsed": false,
    "pycharm": {
     "name": "#%%\n"
    }
   }
  },
  {
   "cell_type": "code",
   "execution_count": 18,
   "outputs": [
    {
     "data": {
      "text/plain": "169.44753505758564"
     },
     "execution_count": 18,
     "metadata": {},
     "output_type": "execute_result"
    }
   ],
   "source": [
    "q.distance(p)"
   ],
   "metadata": {
    "collapsed": false,
    "pycharm": {
     "name": "#%%\n"
    }
   }
  },
  {
   "cell_type": "code",
   "execution_count": null,
   "outputs": [],
   "source": [],
   "metadata": {
    "collapsed": false,
    "pycharm": {
     "name": "#%%\n"
    }
   }
  },
  {
   "cell_type": "code",
   "execution_count": null,
   "outputs": [],
   "source": [],
   "metadata": {
    "collapsed": false,
    "pycharm": {
     "name": "#%%\n"
    }
   }
  },
  {
   "cell_type": "code",
   "execution_count": null,
   "outputs": [],
   "source": [],
   "metadata": {
    "collapsed": false,
    "pycharm": {
     "name": "#%%\n"
    }
   }
  },
  {
   "cell_type": "code",
   "execution_count": 25,
   "outputs": [
    {
     "data": {
      "text/plain": "<shapely.geometry.linestring.LineString at 0x20221b45708>",
      "image/svg+xml": "<svg xmlns=\"http://www.w3.org/2000/svg\" xmlns:xlink=\"http://www.w3.org/1999/xlink\" width=\"100.0\" height=\"100.0\" viewBox=\"4101.2685988 9390.924168799998 4.985852399999203 2.1647724000031303\" preserveAspectRatio=\"xMinYMin meet\"><g transform=\"matrix(1,0,0,-1,0,18784.01311)\"><polyline fill=\"none\" stroke=\"#66cc99\" stroke-width=\"0.09971704799998406\" points=\"4101.58117,9391.10883 4101.45326,9392.90428 4106.06979,9391.4286\" opacity=\"0.8\" /></g></svg>"
     },
     "metadata": {},
     "output_type": "display_data"
    }
   ],
   "source": [
    "m = LineString(\n",
    "[[4101.58117,9391.10883],\n",
    "[4101.45326,9392.90428],\n",
    "[4106.06979,9391.42860],\n",
    "])\n",
    "display(m)\n"
   ],
   "metadata": {
    "collapsed": false,
    "pycharm": {
     "name": "#%%\n"
    }
   }
  }
 ],
 "metadata": {
  "kernelspec": {
   "name": "pycharm-f3ed17a5",
   "language": "python",
   "display_name": "PyCharm (argoverse-api-master)"
  },
  "language_info": {
   "codemirror_mode": {
    "name": "ipython",
    "version": 2
   },
   "file_extension": ".py",
   "mimetype": "text/x-python",
   "name": "python",
   "nbconvert_exporter": "python",
   "pygments_lexer": "ipython2",
   "version": "2.7.6"
  }
 },
 "nbformat": 4,
 "nbformat_minor": 0
}