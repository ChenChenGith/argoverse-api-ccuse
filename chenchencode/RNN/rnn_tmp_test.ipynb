{
 "cells": [
  {
   "cell_type": "code",
   "execution_count": 1,
   "metadata": {
    "collapsed": true
   },
   "outputs": [],
   "source": [
    "import numpy as np\n",
    "import torch.nn.utils.rnn as rnn_utils\n",
    "import torch\n",
    "from torch import nn\n",
    "from torch.utils.data import DataLoader"
   ]
  },
  {
   "cell_type": "code",
   "execution_count": 11,
   "outputs": [
    {
     "name": "stdout",
     "output_type": "stream",
     "text": [
      "tensor([[[ 0.9090,  0.2082,  0.3818,  ...,  0.7157, -0.7964, -0.5937],\n",
      "         [ 0.0257,  1.0360,  0.8458,  ...,  0.1438,  0.4344,  0.2346],\n",
      "         [ 0.6754,  0.4282,  0.0447,  ..., -0.3213,  0.3050,  1.0878],\n",
      "         ...,\n",
      "         [ 0.3453, -0.1539, -0.6650,  ..., -0.0913, -0.4887,  0.0934],\n",
      "         [-0.7492, -1.3920,  0.9473,  ...,  1.1321,  0.6722,  0.5919],\n",
      "         [-0.2613, -0.0758,  0.8918,  ...,  0.6079, -0.7209, -0.0223]],\n",
      "\n",
      "        [[ 0.7501,  0.6039,  0.6174,  ...,  1.1950, -0.2610, -0.0404],\n",
      "         [ 0.2294,  0.3191,  0.4965,  ...,  0.9287,  0.1960, -0.3942],\n",
      "         [-1.0556, -0.0410,  1.1981,  ...,  1.4319, -0.7857, -0.5755],\n",
      "         ...,\n",
      "         [ 0.3235,  0.8460, -1.5638,  ..., -0.3154,  1.1888, -0.2322],\n",
      "         [ 0.3373, -0.0117, -0.9412,  ..., -0.1439,  1.2993,  0.8822],\n",
      "         [-0.4971, -1.1059, -0.1397,  ...,  0.3581, -0.0748,  0.8661]]],\n",
      "       grad_fn=<AddBackward0>)\n",
      "tensor([[ 0.9090,  0.2082,  0.3818,  ...,  0.7157, -0.7964, -0.5937],\n",
      "        [ 0.0257,  1.0360,  0.8458,  ...,  0.1438,  0.4344,  0.2346],\n",
      "        [ 0.6754,  0.4282,  0.0447,  ..., -0.3213,  0.3050,  1.0878],\n",
      "        ...,\n",
      "        [ 0.3235,  0.8460, -1.5638,  ..., -0.3154,  1.1888, -0.2322],\n",
      "        [ 0.3373, -0.0117, -0.9412,  ..., -0.1439,  1.2993,  0.8822],\n",
      "        [-0.4971, -1.1059, -0.1397,  ...,  0.3581, -0.0748,  0.8661]],\n",
      "       grad_fn=<ViewBackward>)\n",
      "m.weight.shape:\n",
      "  torch.Size([30, 20])\n",
      "m.bias.shape:\n",
      " torch.Size([30])\n",
      "output.shape:\n",
      " torch.Size([2, 128, 30])\n"
     ]
    }
   ],
   "source": [
    "x = torch.randn(2,128, 20)  # 输入的维度是（128，20）\n",
    "m = torch.nn.Linear(20, 30)  # 20,30是指维度\n",
    "output = m(x)\n",
    "print(output)\n",
    "output1 = m(x).view(2*128,30)\n",
    "print(output1)\n",
    "print('m.weight.shape:\\n ', m.weight.shape)\n",
    "print('m.bias.shape:\\n', m.bias.shape)\n",
    "print('output.shape:\\n', output.shape)"
   ],
   "metadata": {
    "collapsed": false,
    "pycharm": {
     "name": "#%%\n"
    }
   }
  },
  {
   "cell_type": "code",
   "execution_count": 2,
   "outputs": [],
   "source": [],
   "metadata": {
    "collapsed": false,
    "pycharm": {
     "name": "#%%\n"
    }
   }
  },
  {
   "cell_type": "code",
   "execution_count": null,
   "outputs": [],
   "source": [],
   "metadata": {
    "collapsed": false,
    "pycharm": {
     "name": "#%%\n"
    }
   }
  }
 ],
 "metadata": {
  "kernelspec": {
   "name": "pycharm-f3ed17a5",
   "language": "python",
   "display_name": "PyCharm (argoverse-api-master)"
  },
  "language_info": {
   "codemirror_mode": {
    "name": "ipython",
    "version": 2
   },
   "file_extension": ".py",
   "mimetype": "text/x-python",
   "name": "python",
   "nbconvert_exporter": "python",
   "pygments_lexer": "ipython2",
   "version": "2.7.6"
  }
 },
 "nbformat": 4,
 "nbformat_minor": 0
}