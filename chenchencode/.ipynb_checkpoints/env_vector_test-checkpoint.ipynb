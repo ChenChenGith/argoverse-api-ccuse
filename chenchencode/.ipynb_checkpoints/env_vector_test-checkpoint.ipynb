{
 "cells": [
  {
   "cell_type": "code",
   "execution_count": 1,
   "metadata": {
    "collapsed": true
   },
   "outputs": [],
   "source": [
    "from shapely.geometry.polygon import Polygon\n",
    "from pandas import DataFrame\n",
    "import matplotlib.pyplot as plt\n",
    "import numpy as np\n",
    "import pandas as pd\n",
    "import copy"
   ]
  },
  {
   "cell_type": "code",
   "execution_count": 2,
   "metadata": {
    "pycharm": {
     "name": "#%%\n"
    }
   },
   "outputs": [
    {
     "name": "stderr",
     "output_type": "stream",
     "text": [
      "E:\\数据集\\03_Argoverse\\argoverse-api-master\\argoverse\\map_representation\\map_api.py:78: VisibleDeprecationWarning: Creating an ndarray from ragged nested sequences (which is a list-or-tuple of lists-or-tuples-or ndarrays with different lengths or shapes) is deprecated. If you meant to do this, you must specify 'dtype=object' when creating the ndarray\n",
      "  lane_polygons = np.array(self.get_vector_map_lane_polygons(city_name))\n",
      "E:\\数据集\\03_Argoverse\\argoverse-api-master\\argoverse\\map_representation\\map_api.py:79: VisibleDeprecationWarning: Creating an ndarray from ragged nested sequences (which is a list-or-tuple of lists-or-tuples-or ndarrays with different lengths or shapes) is deprecated. If you meant to do this, you must specify 'dtype=object' when creating the ndarray\n",
      "  driveable_areas = np.array(self.get_vector_map_driveable_areas(city_name))\n"
     ]
    }
   ],
   "source": [
    "# map 对象\n",
    "from argoverse.map_representation.map_api import ArgoverseMap\n",
    "am = ArgoverseMap()  # map 操作对象"
   ]
  },
  {
   "cell_type": "code",
   "execution_count": 3,
   "metadata": {
    "pycharm": {
     "name": "#%%\n"
    }
   },
   "outputs": [
    {
     "name": "stdout",
     "output_type": "stream",
     "text": [
      "Total number of sequences: 5\n"
     ]
    }
   ],
   "source": [
    "# data loader 对象\n",
    "from argoverse.data_loading.argoverse_forecasting_loader import ArgoverseForecastingLoader\n",
    "# 设置路径\n",
    "root_dir = '../forecasting_sample/data/'\n",
    "afl = ArgoverseForecastingLoader(root_dir)  # loader对象\n",
    "print('Total number of sequences:',len(afl))  # 文件夹中的seq，即数据文件的数量\n"
   ]
  },
  {
   "cell_type": "code",
   "execution_count": 50,
   "metadata": {
    "pycharm": {
     "name": "#%%\n"
    }
   },
   "outputs": [],
   "source": [
    "# 根据角度计算旋转矩阵\n",
    "from argoverse.utils.se2 import SE2\n",
    "\n",
    "def rotation_mat(theta):\n",
    "    cos_theta = np.cos(theta)\n",
    "    sin_theta = np.sin(theta)\n",
    "    r_mat = np.array([[cos_theta, -sin_theta], [sin_theta, cos_theta]])\n",
    "    return r_mat\n",
    "\n",
    "def rotation(theta, city_name, x0, y0):\n",
    "    data = copy.deepcopy(DataFrame(am.city_halluc_bbox_table[city_name]))\n",
    "    # 转换为以现在的x0，y0 为中心的坐标\n",
    "    data.iloc[:,0] = data.iloc[:,0] - x0\n",
    "    data.iloc[:,1] = data.iloc[:,1] - y0\n",
    "    data.iloc[:,2] = data.iloc[:,2] - x0\n",
    "    data.iloc[:,3] = data.iloc[:,3] - y0\n",
    "    translation_vector = np.array([0, 0])\n",
    "    rotation_matrix = rotation_mat(theta)\n",
    "    dst_se2_src = SE2(rotation=rotation_matrix, translation=translation_vector)\n",
    "    # 起点转换\n",
    "    start_point = np.array(data.iloc[:,:2])\n",
    "    rotated_data_1 = DataFrame(dst_se2_src.inverse_transform_point_cloud(start_point))\n",
    "    # 终点转换\n",
    "    end_point = np.array(data.iloc[:,-2:])\n",
    "    rotated_data_2 = DataFrame(dst_se2_src.inverse_transform_point_cloud(end_point))\n",
    "    # 合并\n",
    "    results = np.array(pd.concat([rotated_data_1, rotated_data_2],axis=1))\n",
    "\n",
    "    return results"
   ]
  },
  {
   "cell_type": "code",
   "execution_count": 51,
   "metadata": {
    "pycharm": {
     "name": "#%%\n"
    }
   },
   "outputs": [
    {
     "data": {
      "text/plain": [
       "{'PIT': array([[3157.05311276, 1664.64502937, 3169.32205386, 1676.08986295],\n",
       "        [2550.29379146, 1226.70455396, 2555.01302486, 1231.25902421],\n",
       "        [2549.48134283, 1218.77664394, 2556.60119041, 1229.07895812],\n",
       "        ...,\n",
       "        [1978.61559201,  924.7597167 , 1989.81210172,  936.32818642],\n",
       "        [2040.95102526,  982.23952084, 2056.72990177,  997.33165492],\n",
       "        [2112.37130421, 1047.26683279, 2143.87323299, 1076.07765697]]),\n",
       " 'MIA': array([[ 250.17084022, 1767.85900712,  255.6611325 , 1783.30972556],\n",
       "        [ 255.75382143, 1767.2186543 ,  266.47287071, 1776.04522048],\n",
       "        [ 251.92546688, 1767.63276669,  266.07094055, 1780.82092355],\n",
       "        ...,\n",
       "        [ 334.32921743, 1772.57933045,  338.14000093, 1787.33416533],\n",
       "        [ 329.61766493, 1791.81067027,  333.75859923, 1807.38868822],\n",
       "        [ 334.35257687, 1779.96511506,  344.50547707, 1787.55101587]])}"
      ]
     },
     "execution_count": 51,
     "metadata": {},
     "output_type": "execute_result"
    }
   ],
   "source": [
    "am.city_halluc_bbox_table"
   ]
  },
  {
   "cell_type": "code",
   "execution_count": 576,
   "metadata": {
    "pycharm": {
     "name": "#%%\n"
    }
   },
   "outputs": [],
   "source": [
    "theta = np.pi * -0.25\n",
    "x0, y0 = 2870,1530\n",
    "range_dis_front = 50\n",
    "range_dis_back = 20\n",
    "range_dis_side = 10"
   ]
  },
  {
   "cell_type": "code",
   "execution_count": 577,
   "metadata": {
    "pycharm": {
     "name": "#%%\n"
    }
   },
   "outputs": [
    {
     "name": "stdout",
     "output_type": "stream",
     "text": [
      "{'PIT': array([[  107.76878927,   298.18561591,   108.35152129,   314.95378679],\n",
      "       [  -11.60416145,  -440.52869464,   -11.4876563 ,  -433.9711959 ],\n",
      "       [   -6.57277045,  -446.70906152,    -8.82311416,  -434.38973279],\n",
      "       ...,\n",
      "       [ -202.33445097, -1058.2734681 ,  -202.59746641, -1042.17619677],\n",
      "       [ -198.9010027 ,  -973.55130126,  -198.41540246,  -951.72220032],\n",
      "       [ -194.38049238,  -877.06828445,  -192.47759406,  -834.42072784]]), 'MIA': array([[-2020.69068133, -1684.30724754, -2027.73376621, -1669.49971685],\n",
      "       [-2016.29011963, -1680.81228148, -2014.951932  , -1666.99144424],\n",
      "       [-2019.28999678, -1683.22651526, -2018.61307157, -1663.89871976],\n",
      "       ...,\n",
      "       [-1964.51949475, -1621.46051567, -1972.25810769, -1608.33264102],\n",
      "       [-1981.44967627, -1611.1934756 , -1989.53691568, -1597.25007074],\n",
      "       [-1969.72551551, -1616.22145968, -1967.91037283, -1603.67823319]])}\n"
     ]
    },
    {
     "ename": "PermissionError",
     "evalue": "[Errno 13] Permission denied: 'e:\\\\数据集\\\\03_Argoverse\\\\tmp1.csv'",
     "output_type": "error",
     "traceback": [
      "\u001b[1;31m---------------------------------------------------------------------------\u001b[0m",
      "\u001b[1;31mPermissionError\u001b[0m                           Traceback (most recent call last)",
      "\u001b[1;32m<ipython-input-577-605330cd7593>\u001b[0m in \u001b[0;36m<module>\u001b[1;34m\u001b[0m\n\u001b[0;32m      3\u001b[0m \u001b[0mres\u001b[0m \u001b[1;33m=\u001b[0m \u001b[1;33m{\u001b[0m\u001b[1;34m'PIT'\u001b[0m\u001b[1;33m:\u001b[0m \u001b[0mres_PIT\u001b[0m\u001b[1;33m,\u001b[0m \u001b[1;34m'MIA'\u001b[0m\u001b[1;33m:\u001b[0m \u001b[0mres_MIA\u001b[0m\u001b[1;33m}\u001b[0m\u001b[1;33m\u001b[0m\u001b[1;33m\u001b[0m\u001b[0m\n\u001b[0;32m      4\u001b[0m \u001b[0mprint\u001b[0m\u001b[1;33m(\u001b[0m\u001b[0mres\u001b[0m\u001b[1;33m)\u001b[0m\u001b[1;33m\u001b[0m\u001b[1;33m\u001b[0m\u001b[0m\n\u001b[1;32m----> 5\u001b[1;33m \u001b[0mDataFrame\u001b[0m\u001b[1;33m(\u001b[0m\u001b[0mres\u001b[0m\u001b[1;33m[\u001b[0m\u001b[1;34m'PIT'\u001b[0m\u001b[1;33m]\u001b[0m\u001b[1;33m)\u001b[0m\u001b[1;33m.\u001b[0m\u001b[0mto_csv\u001b[0m\u001b[1;33m(\u001b[0m\u001b[1;34mr'e:\\数据集\\03_Argoverse\\tmp1.csv'\u001b[0m\u001b[1;33m)\u001b[0m\u001b[1;33m\u001b[0m\u001b[1;33m\u001b[0m\u001b[0m\n\u001b[0m",
      "\u001b[1;32mD:\\ProgramData\\Anaconda3\\lib\\site-packages\\pandas\\core\\generic.py\u001b[0m in \u001b[0;36mto_csv\u001b[1;34m(self, path_or_buf, sep, na_rep, float_format, columns, header, index, index_label, mode, encoding, compression, quoting, quotechar, line_terminator, chunksize, date_format, doublequote, escapechar, decimal, errors, storage_options)\u001b[0m\n\u001b[0;32m   3401\u001b[0m             \u001b[0mdoublequote\u001b[0m\u001b[1;33m=\u001b[0m\u001b[0mdoublequote\u001b[0m\u001b[1;33m,\u001b[0m\u001b[1;33m\u001b[0m\u001b[1;33m\u001b[0m\u001b[0m\n\u001b[0;32m   3402\u001b[0m             \u001b[0mescapechar\u001b[0m\u001b[1;33m=\u001b[0m\u001b[0mescapechar\u001b[0m\u001b[1;33m,\u001b[0m\u001b[1;33m\u001b[0m\u001b[1;33m\u001b[0m\u001b[0m\n\u001b[1;32m-> 3403\u001b[1;33m             \u001b[0mstorage_options\u001b[0m\u001b[1;33m=\u001b[0m\u001b[0mstorage_options\u001b[0m\u001b[1;33m,\u001b[0m\u001b[1;33m\u001b[0m\u001b[1;33m\u001b[0m\u001b[0m\n\u001b[0m\u001b[0;32m   3404\u001b[0m         )\n\u001b[0;32m   3405\u001b[0m \u001b[1;33m\u001b[0m\u001b[0m\n",
      "\u001b[1;32mD:\\ProgramData\\Anaconda3\\lib\\site-packages\\pandas\\io\\formats\\format.py\u001b[0m in \u001b[0;36mto_csv\u001b[1;34m(self, path_or_buf, encoding, sep, columns, index_label, mode, compression, quoting, quotechar, line_terminator, chunksize, date_format, doublequote, escapechar, errors, storage_options)\u001b[0m\n\u001b[0;32m   1081\u001b[0m             \u001b[0mformatter\u001b[0m\u001b[1;33m=\u001b[0m\u001b[0mself\u001b[0m\u001b[1;33m.\u001b[0m\u001b[0mfmt\u001b[0m\u001b[1;33m,\u001b[0m\u001b[1;33m\u001b[0m\u001b[1;33m\u001b[0m\u001b[0m\n\u001b[0;32m   1082\u001b[0m         )\n\u001b[1;32m-> 1083\u001b[1;33m         \u001b[0mcsv_formatter\u001b[0m\u001b[1;33m.\u001b[0m\u001b[0msave\u001b[0m\u001b[1;33m(\u001b[0m\u001b[1;33m)\u001b[0m\u001b[1;33m\u001b[0m\u001b[1;33m\u001b[0m\u001b[0m\n\u001b[0m\u001b[0;32m   1084\u001b[0m \u001b[1;33m\u001b[0m\u001b[0m\n\u001b[0;32m   1085\u001b[0m         \u001b[1;32mif\u001b[0m \u001b[0mcreated_buffer\u001b[0m\u001b[1;33m:\u001b[0m\u001b[1;33m\u001b[0m\u001b[1;33m\u001b[0m\u001b[0m\n",
      "\u001b[1;32mD:\\ProgramData\\Anaconda3\\lib\\site-packages\\pandas\\io\\formats\\csvs.py\u001b[0m in \u001b[0;36msave\u001b[1;34m(self)\u001b[0m\n\u001b[0;32m    232\u001b[0m             \u001b[0merrors\u001b[0m\u001b[1;33m=\u001b[0m\u001b[0mself\u001b[0m\u001b[1;33m.\u001b[0m\u001b[0merrors\u001b[0m\u001b[1;33m,\u001b[0m\u001b[1;33m\u001b[0m\u001b[1;33m\u001b[0m\u001b[0m\n\u001b[0;32m    233\u001b[0m             \u001b[0mcompression\u001b[0m\u001b[1;33m=\u001b[0m\u001b[0mself\u001b[0m\u001b[1;33m.\u001b[0m\u001b[0mcompression\u001b[0m\u001b[1;33m,\u001b[0m\u001b[1;33m\u001b[0m\u001b[1;33m\u001b[0m\u001b[0m\n\u001b[1;32m--> 234\u001b[1;33m             \u001b[0mstorage_options\u001b[0m\u001b[1;33m=\u001b[0m\u001b[0mself\u001b[0m\u001b[1;33m.\u001b[0m\u001b[0mstorage_options\u001b[0m\u001b[1;33m,\u001b[0m\u001b[1;33m\u001b[0m\u001b[1;33m\u001b[0m\u001b[0m\n\u001b[0m\u001b[0;32m    235\u001b[0m         ) as handles:\n\u001b[0;32m    236\u001b[0m \u001b[1;33m\u001b[0m\u001b[0m\n",
      "\u001b[1;32mD:\\ProgramData\\Anaconda3\\lib\\site-packages\\pandas\\io\\common.py\u001b[0m in \u001b[0;36mget_handle\u001b[1;34m(path_or_buf, mode, encoding, compression, memory_map, is_text, errors, storage_options)\u001b[0m\n\u001b[0;32m    645\u001b[0m                 \u001b[0mencoding\u001b[0m\u001b[1;33m=\u001b[0m\u001b[0mioargs\u001b[0m\u001b[1;33m.\u001b[0m\u001b[0mencoding\u001b[0m\u001b[1;33m,\u001b[0m\u001b[1;33m\u001b[0m\u001b[1;33m\u001b[0m\u001b[0m\n\u001b[0;32m    646\u001b[0m                 \u001b[0merrors\u001b[0m\u001b[1;33m=\u001b[0m\u001b[0merrors\u001b[0m\u001b[1;33m,\u001b[0m\u001b[1;33m\u001b[0m\u001b[1;33m\u001b[0m\u001b[0m\n\u001b[1;32m--> 647\u001b[1;33m                 \u001b[0mnewline\u001b[0m\u001b[1;33m=\u001b[0m\u001b[1;34m\"\"\u001b[0m\u001b[1;33m,\u001b[0m\u001b[1;33m\u001b[0m\u001b[1;33m\u001b[0m\u001b[0m\n\u001b[0m\u001b[0;32m    648\u001b[0m             )\n\u001b[0;32m    649\u001b[0m         \u001b[1;32melse\u001b[0m\u001b[1;33m:\u001b[0m\u001b[1;33m\u001b[0m\u001b[1;33m\u001b[0m\u001b[0m\n",
      "\u001b[1;31mPermissionError\u001b[0m: [Errno 13] Permission denied: 'e:\\\\数据集\\\\03_Argoverse\\\\tmp1.csv'"
     ]
    }
   ],
   "source": [
    "res_PIT = rotation(theta,'PIT', x0, y0)\n",
    "res_MIA = rotation(theta,'MIA', x0, y0)\n",
    "res = {'PIT': res_PIT, 'MIA': res_MIA}\n",
    "print(res)\n",
    "DataFrame(res['PIT']).to_csv(r'e:\\数据集\\03_Argoverse\\tmp1.csv')"
   ]
  },
  {
   "cell_type": "code",
   "execution_count": 580,
   "metadata": {
    "pycharm": {
     "name": "#%%\n"
    }
   },
   "outputs": [
    {
     "data": {
      "text/plain": [
       "[<matplotlib.lines.Line2D at 0x205d2468b88>]"
      ]
     },
     "execution_count": 580,
     "metadata": {},
     "output_type": "execute_result"
    },
    {
     "data": {
      "image/png": "[encoded data removed]",
      "text/plain": [
       "<Figure size 432x288 with 1 Axes>"
      ]
     },
     "metadata": {
      "needs_background": "light"
     },
     "output_type": "display_data"
    }
   ],
   "source": [
    "x1, y1 = range_dis_front, range_dis_side\n",
    "x2, y2 = range_dis_front, -range_dis_side\n",
    "x3, y3 = -range_dis_back, range_dis_side\n",
    "x4, y4 = -range_dis_back, -range_dis_side\n",
    "rotation_matrix = rotation_mat(theta)\n",
    "dss = SE2(rotation=rotation_matrix, translation=np.array([0, 0]))\n",
    "transformed_pts = np.array([[x1,y1],[x2,y2],[x4,y4],[x3,y3],[x1,y1]])\n",
    "pts = dss.transform_point_cloud(transformed_pts)\n",
    "tmpp = DataFrame(pts)\n",
    "tmpp[0] = tmpp[0] + x0\n",
    "tmpp[1] = tmpp[1] + y0\n",
    "\n",
    "re_cl = am.find_local_lane_centerlines_Revised(0, 0,'PIT',res, range_dis_front,range_dis_back,range_dis_side)\n",
    "# print(re_cl)\n",
    "for i in range(len(re_cl)):\n",
    "    x = re_cl[i]\n",
    "    # display(Polygon(x))\n",
    "    re_cl_df = DataFrame(x)\n",
    "    plt.plot(re_cl_df[0],re_cl_df[1])\n",
    "    plt.axis('equal')\n",
    "plt.scatter(x0,y0, marker='o', s=50, c='r')\n",
    "plt.plot(tmpp[0],tmpp[1])"
   ]
  },
  {
   "cell_type": "code",
   "execution_count": 363,
   "metadata": {
    "pycharm": {
     "name": "#%%\n"
    }
   },
   "outputs": [
    {
     "data": {
      "text/plain": [
       "[<matplotlib.lines.Line2D at 0x205d59192c8>]"
      ]
     },
     "execution_count": 363,
     "metadata": {},
     "output_type": "execute_result"
    },
    {
     "data": {
      "image/png": "[encoded data removed]",
      "text/plain": [
       "<Figure size 432x288 with 1 Axes>"
      ]
     },
     "metadata": {
      "needs_background": "light"
     },
     "output_type": "display_data"
    }
   ],
   "source": [
    "x1, y1 = range_dis_back, range_dis_side\n",
    "x2, y2 = range_dis_back, -range_dis_side\n",
    "x3, y3 = -range_dis_front, range_dis_side\n",
    "x4, y4 = -range_dis_front, -range_dis_side\n",
    "rotation_matrix = rotation_mat(theta)\n",
    "dss = SE2(rotation=rotation_matrix, translation=np.array([0, 0]))\n",
    "transformed_pts = np.array([[x1,y1],[x2,y2],[x4,y4],[x3,y3],[x1,y1]])\n",
    "pts = dss.transform_point_cloud(transformed_pts)\n",
    "tmpp = DataFrame(pts)\n",
    "tmpp[0] = tmpp[0] + x0\n",
    "tmpp[1] = tmpp[1] + y0\n",
    "\n",
    "re_cl = am.find_local_lane_centerlines_Revised(0, 0,'PIT',res, range_dis_back,range_dis_front,range_dis_side)\n",
    "# print(re_cl)\n",
    "for i in range(len(re_cl)):\n",
    "    x = re_cl[i]\n",
    "    # display(Polygon(x))\n",
    "    re_cl_df = DataFrame(x)\n",
    "    plt.plot(re_cl_df[0],re_cl_df[1])\n",
    "    plt.axis('equal')\n",
    "plt.scatter(x0,y0, marker='o', s=50, c='r')\n",
    "plt.plot(tmpp[0],tmpp[1])"
   ]
  },
  {
   "cell_type": "code",
   "execution_count": 364,
   "metadata": {
    "pycharm": {
     "name": "#%%\n"
    }
   },
   "outputs": [
    {
     "data": {
      "image/png": "[encoded data removed]",
      "text/plain": [
       "<Figure size 432x288 with 1 Axes>"
      ]
     },
     "metadata": {
      "needs_background": "light"
     },
     "output_type": "display_data"
    }
   ],
   "source": [
    "re_cl = am.find_local_lane_centerlines(x0, y0,'PIT', range_dis_front)\n",
    "# print(re_cl)\n",
    "plt.scatter(x0,y0, marker='o')\n",
    "for i in range(len(re_cl)):\n",
    "    x = re_cl[i]\n",
    "    # display(Polygon(x))\n",
    "    re_cl_df = DataFrame(x)\n",
    "    plt.plot(re_cl_df[0],re_cl_df[1])\n",
    "    plt.axis('equal')"
   ]
  },
  {
   "cell_type": "markdown",
   "metadata": {
    "pycharm": {
     "name": "#%% md\n"
    }
   },
   "source": [
    "## 测试shapely检查框覆盖路径可行性"
   ]
  },
  {
   "cell_type": "code",
   "execution_count": 454,
   "metadata": {
    "pycharm": {
     "name": "#%%\n"
    }
   },
   "outputs": [],
   "source": [
    "from shapely.geometry import Polygon\n",
    "from shapely.geometry import LineString\n",
    "from shapely.geometry import MultiLineString"
   ]
  },
  {
   "cell_type": "markdown",
   "metadata": {
    "pycharm": {
     "name": "#%% md\n"
    }
   },
   "source": [
    "##### 覆盖框"
   ]
  },
  {
   "cell_type": "code",
   "execution_count": 532,
   "metadata": {
    "pycharm": {
     "name": "#%%\n"
    }
   },
   "outputs": [
    {
     "data": {
      "image/svg+xml": [
       "<svg xmlns=\"http://www.w3.org/2000/svg\" xmlns:xlink=\"http://www.w3.org/1999/xlink\" width=\"100.0\" height=\"100.0\" viewBox=\"2848.4 1508.4 28.199999999999818 43.19999999999982\" preserveAspectRatio=\"xMinYMin meet\"><g transform=\"matrix(1,0,0,-1,0,3060.0)\"><path fill-rule=\"evenodd\" fill=\"#66cc99\" stroke=\"#555555\" stroke-width=\"0.8639999999999963\" opacity=\"0.6\" d=\"M 2875.0,1550.0 L 2875.0,1510.0 L 2850.0,1510.0 L 2850.0,1550.0 L 2875.0,1550.0 z\" /></g></svg>"
      ],
      "text/plain": [
       "<shapely.geometry.polygon.Polygon at 0x205d2da7988>"
      ]
     },
     "metadata": {},
     "output_type": "display_data"
    }
   ],
   "source": [
    "x0, y0 = 2870,1530\n",
    "range_dis_front = 5\n",
    "range_dis_back = 20\n",
    "range_dis_side = 20\n",
    "x1, y1 = x0+range_dis_front, y0+range_dis_side\n",
    "x2, y2 = x0+range_dis_front, y0-range_dis_side\n",
    "x3, y3 = x0-range_dis_back, y0+range_dis_side\n",
    "x4, y4 = x0-range_dis_back, y0-range_dis_side\n",
    "polygon = Polygon([[x1,y1],[x2,y2],[x4,y4],[x3,y3]])\n",
    "display(polygon)"
   ]
  },
  {
   "cell_type": "markdown",
   "metadata": {
    "pycharm": {
     "name": "#%% md\n"
    }
   },
   "source": [
    "##### 路径\n"
   ]
  },
  {
   "cell_type": "code",
   "execution_count": 538,
   "metadata": {
    "pycharm": {
     "name": "#%%\n"
    }
   },
   "outputs": [
    {
     "name": "stdout",
     "output_type": "stream",
     "text": [
      "9604941\n",
      "[2873.47123575 1526.87923865 2883.39872575 1540.7397631 ]\n",
      "9604930\n",
      "[2871.41839763 1515.67331246 2880.79508136 1529.26593208]\n"
     ]
    },
    {
     "data": {
      "image/png": "[encoded data removed]",
      "text/plain": [
       "<Figure size 432x288 with 1 Axes>"
      ]
     },
     "metadata": {
      "needs_background": "light"
     },
     "output_type": "display_data"
    }
   ],
   "source": [
    "m = [87,76]\n",
    "xm = []\n",
    "for tt in m:\n",
    "    print(am.city_halluc_tableidx_to_laneid_map['PIT'][str(tt)])\n",
    "    z = am.city_halluc_tableidx_to_laneid_map['PIT'][str(tt)]\n",
    "    print(am.city_halluc_bbox_table['PIT'][tt])\n",
    "    y = am.city_halluc_bbox_table['PIT'][tt]\n",
    "    x = am.city_lane_centerlines_dict['PIT'][z].centerline\n",
    "    xm.append(x)\n",
    "    xx = DataFrame(x)\n",
    "    plt.scatter(xx[0],xx[1])\n",
    "    plt.plot([y[0],y[2]],[y[1],y[3]])\n",
    "    plt.axis('equal')"
   ]
  },
  {
   "cell_type": "code",
   "execution_count": 472,
   "metadata": {
    "pycharm": {
     "name": "#%%\n"
    }
   },
   "outputs": [
    {
     "data": {
      "image/svg+xml": [
       "<svg xmlns=\"http://www.w3.org/2000/svg\" xmlns:xlink=\"http://www.w3.org/1999/xlink\" width=\"100.0\" height=\"100.0\" viewBox=\"2872.3252415898164 1516.5725043859704 7.0294388466463715 11.892946276087514\" preserveAspectRatio=\"xMinYMin meet\"><g transform=\"matrix(1,0,0,-1,0,3045.0379550480284)\"><polyline fill=\"none\" stroke=\"#66cc99\" stroke-width=\"0.23785892552175028\" points=\"2872.765721081523,1517.0129838776775 2873.87487688256,1518.1284750413568 2875.0249101146196,1519.1981992463757 2876.19081611976,1520.2549091645408 2877.3558962230372,1521.312473733742 2878.3738509459854,1522.5005958337172 2878.914200944756,1523.9287805713686 2878.798991727007,1525.4747143185618 2878.0345139276906,1526.8339330899462 2877.0072148553445,1528.024971170351\" opacity=\"0.8\" /></g></svg>"
      ],
      "text/plain": [
       "<shapely.geometry.linestring.LineString at 0x205d38d2848>"
      ]
     },
     "metadata": {},
     "output_type": "display_data"
    }
   ],
   "source": [
    "# 转换为shapely对象\n",
    "line1 = LineString(x)\n",
    "display(line1)"
   ]
  },
  {
   "cell_type": "code",
   "execution_count": 473,
   "metadata": {
    "pycharm": {
     "name": "#%%\n"
    }
   },
   "outputs": [
    {
     "data": {
      "image/svg+xml": [
       "<svg xmlns=\"http://www.w3.org/2000/svg\" xmlns:xlink=\"http://www.w3.org/1999/xlink\" width=\"100.0\" height=\"100.0\" viewBox=\"2871.8707889372763 1516.1180517334305 11.08941338004297 24.16316789466873\" preserveAspectRatio=\"xMinYMin meet\"><g transform=\"matrix(1,0,0,-1,0,3056.39927136153)\"><g><polyline fill=\"none\" stroke=\"#66cc99\" stroke-width=\"0.48326335789337466\" points=\"2877.0072148553445,1528.024971170351 2876.027891694186,1529.3205127520182 2875.338536516696,1530.779180203968 2875.468524822805,1532.2964725805004 2876.2542754841925,1533.6693640882472 2877.398017379034,1534.829396374962 2878.578875075689,1535.9540317506303 2879.7418533670425,1537.0972376769855 2880.9035617700574,1538.241762580419 2882.0652701730723,1539.3862874838524\" opacity=\"0.8\" /><polyline fill=\"none\" stroke=\"#66cc99\" stroke-width=\"0.48326335789337466\" points=\"2872.765721081523,1517.0129838776775 2873.87487688256,1518.1284750413568 2875.0249101146196,1519.1981992463757 2876.19081611976,1520.2549091645408 2877.3558962230372,1521.312473733742 2878.3738509459854,1522.5005958337172 2878.914200944756,1523.9287805713686 2878.798991727007,1525.4747143185618 2878.0345139276906,1526.8339330899462 2877.0072148553445,1528.024971170351\" opacity=\"0.8\" /></g></g></svg>"
      ],
      "text/plain": [
       "<shapely.geometry.multilinestring.MultiLineString at 0x205d397cf08>"
      ]
     },
     "metadata": {},
     "output_type": "display_data"
    }
   ],
   "source": [
    "# 多个线对象\n",
    "line2 = MultiLineString(xm)\n",
    "display(line2)"
   ]
  },
  {
   "cell_type": "markdown",
   "metadata": {
    "pycharm": {
     "name": "#%% md\n"
    }
   },
   "source": [
    "##### 单条线检查是否相交"
   ]
  },
  {
   "cell_type": "code",
   "execution_count": 444,
   "metadata": {
    "pycharm": {
     "name": "#%%\n"
    }
   },
   "outputs": [
    {
     "name": "stdout",
     "output_type": "stream",
     "text": [
      "disjoint False\n",
      "crosses False\n",
      "contains True\n",
      "intersects True\n"
     ]
    },
    {
     "data": {
      "image/png": "[encoded data removed]",
      "text/plain": [
       "<Figure size 432x288 with 1 Axes>"
      ]
     },
     "metadata": {
      "needs_background": "light"
     },
     "output_type": "display_data"
    }
   ],
   "source": [
    "plt.plot(xx[0],xx[1])\n",
    "plt.scatter(x0,y0, marker='o', s=50, c='r')\n",
    "plt.plot([x1,x2,x4,x3,x1],[y1,y2,y4,y3,y1])\n",
    "print('disjoint',polygon.disjoint(line1))\n",
    "print('crosses',polygon.crosses(line1))\n",
    "print('contains',polygon.contains(line1))\n",
    "print('intersects',polygon.intersects(line1))"
   ]
  },
  {
   "cell_type": "code",
   "execution_count": 446,
   "metadata": {
    "pycharm": {
     "name": "#%%\n"
    }
   },
   "outputs": [
    {
     "name": "stdout",
     "output_type": "stream",
     "text": [
      "disjoint False\n",
      "crosses True\n",
      "contains False\n",
      "intersects True\n"
     ]
    },
    {
     "data": {
      "image/png": "[encoded data removed]",
      "text/plain": [
       "<Figure size 432x288 with 1 Axes>"
      ]
     },
     "metadata": {
      "needs_background": "light"
     },
     "output_type": "display_data"
    }
   ],
   "source": [
    "plt.plot(xx[0],xx[1])\n",
    "plt.scatter(x0,y0, marker='o', s=50, c='r')\n",
    "plt.plot([x1,x2,x4,x3,x1],[y1,y2,y4,y3,y1])\n",
    "print('disjoint',polygon.disjoint(line1))\n",
    "print('crosses',polygon.crosses(line1))\n",
    "print('contains',polygon.contains(line1))\n",
    "print('intersects',polygon.intersects(line1))"
   ]
  },
  {
   "cell_type": "code",
   "execution_count": 537,
   "metadata": {
    "pycharm": {
     "name": "#%%\n"
    }
   },
   "outputs": [
    {
     "name": "stdout",
     "output_type": "stream",
     "text": [
      "disjoint False\n",
      "crosses True\n",
      "contains False\n",
      "intersects True\n"
     ]
    },
    {
     "data": {
      "image/png": "[encoded data removed]",
      "text/plain": [
       "<Figure size 432x288 with 1 Axes>"
      ]
     },
     "metadata": {
      "needs_background": "light"
     },
     "output_type": "display_data"
    }
   ],
   "source": [
    "plt.plot(xx[0],xx[1])\n",
    "plt.scatter(x0,y0, marker='o', s=50, c='r')\n",
    "plt.plot([x1,x2,x4,x3,x1],[y1,y2,y4,y3,y1])\n",
    "print('disjoint',polygon.disjoint(line1))\n",
    "print('crosses',polygon.crosses(line1))\n",
    "print('contains',polygon.contains(line1))\n",
    "print('intersects',polygon.intersects(line1))\n"
   ]
  },
  {
   "cell_type": "markdown",
   "metadata": {},
   "source": [
    "##### 单条线检查是否相交"
   ]
  },
  {
   "cell_type": "code",
   "execution_count": 539,
   "metadata": {
    "pycharm": {
     "name": "#%%\n"
    }
   },
   "outputs": [
    {
     "name": "stdout",
     "output_type": "stream",
     "text": [
      "intersects False\n",
      "===\n",
      "intersects True\n",
      "===\n"
     ]
    },
    {
     "data": {
      "text/plain": [
       "[<matplotlib.lines.Line2D at 0x205d390ebc8>]"
      ]
     },
     "execution_count": 539,
     "metadata": {},
     "output_type": "execute_result"
    },
    {
     "data": {
      "image/png": "[encoded data removed]",
      "text/plain": [
       "<Figure size 432x288 with 1 Axes>"
      ]
     },
     "metadata": {
      "needs_background": "light"
     },
     "output_type": "display_data"
    }
   ],
   "source": [
    "for xx in xm:\n",
    "    plt.plot(DataFrame(xx)[0],DataFrame(xx)[1])\n",
    "    line0 = LineString(xx)\n",
    "    # print('disjoint',polygon.disjoint(line0))\n",
    "    # print('crosses',polygon.crosses(line0))\n",
    "    # print('contains',polygon.contains(line0))\n",
    "    print('intersects',polygon.intersects(line0))\n",
    "    print('===')\n",
    "plt.scatter(x0,y0, marker='o', s=50, c='r')\n",
    "plt.plot([x1,x2,x4,x3,x1],[y1,y2,y4,y3,y1])"
   ]
  },
  {
   "cell_type": "code",
   "execution_count": 531,
   "metadata": {
    "pycharm": {
     "name": "#%%\n"
    }
   },
   "outputs": [
    {
     "name": "stdout",
     "output_type": "stream",
     "text": [
      "intersects False\n"
     ]
    }
   ],
   "source": [
    "print('intersects',polygon.intersects(line2))"
   ]
  },
  {
   "cell_type": "code",
   "execution_count": 530,
   "metadata": {
    "pycharm": {
     "name": "#%%\n"
    }
   },
   "outputs": [
    {
     "name": "stdout",
     "output_type": "stream",
     "text": [
      "intersects False\n",
      "intersects False\n"
     ]
    }
   ],
   "source": [
    "for i in line2:\n",
    "    print('intersects',polygon.intersects(i))"
   ]
  },
  {
   "cell_type": "markdown",
   "metadata": {},
   "source": [
    "## 尝试使用shapely来检测"
   ]
  },
  {
   "cell_type": "markdown",
   "metadata": {
    "pycharm": {
     "name": "#%% md\n"
    }
   },
   "source": [
    "##### 旋转判定框"
   ]
  },
  {
   "cell_type": "code",
   "execution_count": 582,
   "metadata": {
    "pycharm": {
     "name": "#%%\n"
    }
   },
   "outputs": [
    {
     "data": {
      "image/svg+xml": [
       "<svg xmlns=\"http://www.w3.org/2000/svg\" xmlns:xlink=\"http://www.w3.org/1999/xlink\" width=\"100.0\" height=\"100.0\" viewBox=\"2846.241212152132 1485.0280087165356 68.73077913133238 68.73077913133238\" preserveAspectRatio=\"xMinYMin meet\"><g transform=\"matrix(1,0,0,-1,0,3038.7867965644036)\"><path fill-rule=\"evenodd\" fill=\"#66cc99\" stroke=\"#555555\" stroke-width=\"1.3746155826266477\" opacity=\"0.6\" d=\"M 2912.4264068711927,1501.715728752538 L 2898.284271247462,1487.5735931288073 L 2848.7867965644036,1537.0710678118655 L 2862.9289321881347,1551.2132034355964 L 2912.4264068711927,1501.715728752538 z\" /></g></svg>"
      ],
      "text/plain": [
       "<shapely.geometry.polygon.Polygon at 0x205d2739a88>"
      ]
     },
     "metadata": {},
     "output_type": "display_data"
    },
    {
     "name": "stdout",
     "output_type": "stream",
     "text": [
      "intersects True\n"
     ]
    },
    {
     "data": {
      "image/png": "[encoded data removed]",
      "text/plain": [
       "<Figure size 432x288 with 1 Axes>"
      ]
     },
     "metadata": {
      "needs_background": "light"
     },
     "output_type": "display_data"
    }
   ],
   "source": [
    "theta = np.pi * -0.25\n",
    "x0, y0 = 2870,1530\n",
    "range_dis_front = 50\n",
    "range_dis_back = 20\n",
    "range_dis_side = 10\n",
    "x1, y1 = range_dis_front, range_dis_side\n",
    "x2, y2 = range_dis_front, -range_dis_side\n",
    "x3, y3 = -range_dis_back, range_dis_side\n",
    "x4, y4 = -range_dis_back, -range_dis_side\n",
    "rotation_matrix = rotation_mat(theta)\n",
    "dss = SE2(rotation=rotation_matrix, translation=np.array([0, 0]))\n",
    "transformed_pts = np.array([[x1,y1],[x2,y2],[x4,y4],[x3,y3]])\n",
    "pts = dss.transform_point_cloud(transformed_pts)\n",
    "tmpp = DataFrame(pts)\n",
    "tmpp[0] = tmpp[0] + x0\n",
    "tmpp[1] = tmpp[1] + y0\n",
    "polygon1 = Polygon(pts)\n",
    "display(polygon1)\n",
    "plt.plot(DataFrame(pts)[0],DataFrame(pts)[1])\n",
    "print('intersects',polygon1.intersects(line0))"
   ]
  },
  {
   "cell_type": "markdown",
   "metadata": {
    "pycharm": {
     "name": "#%% md\n"
    }
   },
   "source": [
    "##### 构造所有centerline的shapely对象"
   ]
  },
  {
   "cell_type": "code",
   "execution_count": 517,
   "metadata": {
    "pycharm": {
     "name": "#%%\n"
    }
   },
   "outputs": [
    {
     "name": "stdout",
     "output_type": "stream",
     "text": [
      "1000 / 4952\n",
      "2000 / 4952\n",
      "3000 / 4952\n",
      "4000 / 4952\n"
     ]
    }
   ],
   "source": [
    "city = 'PIT'\n",
    "line_set = {}\n",
    "i = 1\n",
    "centerline_ind = am.build_centerline_index()['PIT']  # 生成全部centerline\n",
    "for ctlID, ctlinfo in centerline_ind.items():\n",
    "    i += 1\n",
    "    if i % 1000 == 0:\n",
    "        print(i,'/',len(centerline_ind))\n",
    "    line_set[ctlID] = LineString(ctlinfo.centerline)"
   ]
  },
  {
   "cell_type": "code",
   "execution_count": 585,
   "metadata": {
    "pycharm": {
     "name": "#%%\n"
    }
   },
   "outputs": [],
   "source": [
    "est_id = []\n",
    "i = 1\n",
    "for id, info in line_set.items():\n",
    "    # i += 1\n",
    "    # if i >4: break\n",
    "    # print(polygon.intersects(info))\n",
    "    if polygon1.intersects(info):\n",
    "        est_id.append(id)"
   ]
  },
  {
   "cell_type": "code",
   "execution_count": 586,
   "metadata": {
    "pycharm": {
     "name": "#%%\n"
    }
   },
   "outputs": [
    {
     "data": {
      "text/plain": [
       "[<matplotlib.lines.Line2D at 0x205d2c07948>]"
      ]
     },
     "execution_count": 586,
     "metadata": {},
     "output_type": "execute_result"
    },
    {
     "data": {
      "image/png": "[encoded data removed]",
      "text/plain": [
       "<Figure size 432x288 with 1 Axes>"
      ]
     },
     "metadata": {
      "needs_background": "light"
     },
     "output_type": "display_data"
    }
   ],
   "source": [
    "# 真值\n",
    "true_id = [9604930, 9604941, 9608461, 9608467, 9608566, 9608572, 9608573, 9608574, 9608592, 9608862, 9609530, 9609547, 9609570, 9609593, 9609606, 9609643, 9609976, 9609992, 9609993, 9611654]\n",
    "re_cl = [am.get_lane_segment_centerline(lane_id, city) for lane_id in true_id]\n",
    "for i in range(len(re_cl)):\n",
    "    x = re_cl[i]\n",
    "    # display(Polygon(x))\n",
    "    re_cl_df = DataFrame(x)\n",
    "    plt.plot(re_cl_df[0],re_cl_df[1])\n",
    "    plt.axis('equal')\n",
    "plt.scatter(x0,y0, marker='o', s=50, c='r')\n",
    "plt.plot(DataFrame(pts)[0],DataFrame(pts)[1])"
   ]
  },
  {
   "cell_type": "code",
   "execution_count": 587,
   "metadata": {
    "pycharm": {
     "name": "#%% shapely 值\n"
    }
   },
   "outputs": [
    {
     "data": {
      "text/plain": [
       "[<matplotlib.lines.Line2D at 0x205d2ccf848>]"
      ]
     },
     "execution_count": 587,
     "metadata": {},
     "output_type": "execute_result"
    },
    {
     "data": {
      "image/png": "[encoded data removed]",
      "text/plain": [
       "<Figure size 432x288 with 1 Axes>"
      ]
     },
     "metadata": {
      "needs_background": "light"
     },
     "output_type": "display_data"
    }
   ],
   "source": [
    "re_cl = [am.get_lane_segment_centerline(lane_id, city) for lane_id in est_id]\n",
    "for i in range(len(re_cl)):\n",
    "    x = re_cl[i]\n",
    "    # display(Polygon(x))\n",
    "    re_cl_df = DataFrame(x)\n",
    "    plt.plot(re_cl_df[0],re_cl_df[1])\n",
    "    plt.axis('equal')\n",
    "plt.scatter(x0,y0, marker='o', s=50, c='r')\n",
    "plt.plot(DataFrame(pts)[0],DataFrame(pts)[1])"
   ]
  },
  {
   "cell_type": "markdown",
   "metadata": {
    "pycharm": {
     "name": "#%% md\n"
    }
   },
   "source": [
    "## 变量保存"
   ]
  },
  {
   "cell_type": "code",
   "execution_count": null,
   "metadata": {
    "pycharm": {
     "name": "#%%\n"
    }
   },
   "outputs": [],
   "source": [
    "import pickle"
   ]
  },
  {
   "cell_type": "code",
   "execution_count": 513,
   "metadata": {
    "pycharm": {
     "name": "#%%\n"
    }
   },
   "outputs": [],
   "source": [
    "value = ['Liu zong is sexy.', 'Liu zong is hot.']\n",
    "\n",
    "pickle.dump(line_set, open(r'e:\\数据集\\03_Argoverse\\tmp2', 'wb'))"
   ]
  },
  {
   "cell_type": "code",
   "execution_count": 514,
   "metadata": {
    "pycharm": {
     "name": "#%%\n"
    }
   },
   "outputs": [],
   "source": [
    "getback = pickle.load(open(r'e:\\数据集\\03_Argoverse\\tmp2', 'rb'))"
   ]
  },
  {
   "cell_type": "code",
   "execution_count": 516,
   "metadata": {
    "pycharm": {
     "name": "#%%\n"
    }
   },
   "outputs": [
    {
     "data": {
      "image/svg+xml": [
       "<svg xmlns=\"http://www.w3.org/2000/svg\" xmlns:xlink=\"http://www.w3.org/1999/xlink\" width=\"100.0\" height=\"100.0\" viewBox=\"3157.918528321432 1665.6806263323524 10.538081242062617 9.373664954095148\" preserveAspectRatio=\"xMinYMin meet\"><g transform=\"matrix(1,0,0,-1,0,3340.7349176188)\"><polyline fill=\"none\" stroke=\"#66cc99\" stroke-width=\"0.21076162484125235\" points=\"3168.066310258233,1674.663991981186 3166.9821568531097,1673.7091940110909 3165.898003447986,1672.7543960409957 3164.813850042862,1671.7995980709006 3163.729691041164,1670.8448064328238 3162.64551835827,1669.8900302737816 3161.561345675376,1668.9352541147398 3160.4771729924814,1667.980477955698 3159.3930003095875,1667.025701796656 3158.3088276266935,1666.070925637614\" opacity=\"0.8\" /></g></svg>"
      ],
      "text/plain": [
       "<shapely.geometry.linestring.LineString at 0x205d3411b08>"
      ]
     },
     "execution_count": 516,
     "metadata": {},
     "output_type": "execute_result"
    }
   ],
   "source": [
    "getback[9604854]"
   ]
  }
 ],
 "metadata": {
  "kernelspec": {
   "display_name": "Python 3",
   "language": "python",
   "name": "python3"
  },
  "language_info": {
   "codemirror_mode": {
    "name": "ipython",
    "version": 3
   },
   "file_extension": ".py",
   "mimetype": "text/x-python",
   "name": "python",
   "nbconvert_exporter": "python",
   "pygments_lexer": "ipython3",
   "version": "3.7.9"
  }
 },
 "nbformat": 4,
 "nbformat_minor": 1
}
