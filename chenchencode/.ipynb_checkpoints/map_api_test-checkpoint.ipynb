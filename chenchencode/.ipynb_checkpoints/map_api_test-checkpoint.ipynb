{
 "cells": [
  {
   "cell_type": "code",
   "execution_count": null,
   "metadata": {},
   "outputs": [],
   "source": [
    "%matplotlib nbagg"
   ]
  },
  {
   "cell_type": "code",
   "execution_count": null,
   "metadata": {
    "pycharm": {
     "name": "#%%\n"
    }
   },
   "outputs": [],
   "source": [
    "from shapely.geometry.polygon import Polygon\n",
    "from pandas import DataFrame\n",
    "import matplotlib.pyplot as plt\n",
    "import numpy as np\n",
    "import time"
   ]
  },
  {
   "cell_type": "code",
   "execution_count": null,
   "metadata": {
    "pycharm": {
     "name": "#%%\n"
    }
   },
   "outputs": [],
   "source": [
    "from argoverse.map_representation.map_api import ArgoverseMap\n",
    "am = ArgoverseMap()  # map 操作对象"
   ]
  },
  {
   "cell_type": "code",
   "execution_count": null,
   "metadata": {},
   "outputs": [],
   "source": [
    "import sys\n",
    "print(sys.path)\n",
    "sys.path.append('E:\\\\数据集\\\\03_Argoverse\\\\argoverse-api-master')"
   ]
  },
  {
   "cell_type": "code",
   "execution_count": null,
   "metadata": {},
   "outputs": [],
   "source": [
    "centerline_ind = am.build_centerline_index()  # 建立两个城市车道中心线信息，输出字典\n",
    "driverable_area = am.build_city_driveable_area_roi_index()   # 建立可行驶区域的信息字典"
   ]
  },
  {
   "cell_type": "code",
   "execution_count": null,
   "metadata": {},
   "outputs": [],
   "source": [
    "re_cl = am.find_local_lane_centerlines(3178,1675,'PIT',query_search_range_manhattan=5)  # 某点周边的中心线\n",
    "print('re_cl', re_cl[0])\n",
    "display(Polygon(re_cl[0]))\n",
    "re_cl_df = DataFrame(re_cl[0])\n",
    "print((re_cl_df))\n",
    "plt.scatter(re_cl_df[0],re_cl_df[1])"
   ]
  },
  {
   "cell_type": "code",
   "execution_count": null,
   "metadata": {},
   "outputs": [],
   "source": [
    "for i in range(len(re_cl)):\n",
    "    x = re_cl[i]\n",
    "    # display(Polygon(x))\n",
    "    re_cl_df = DataFrame(x)\n",
    "    plt.plot(re_cl_df[0],re_cl_df[1])\n",
    "    plt.axis('equal')"
   ]
  },
  {
   "cell_type": "code",
   "execution_count": null,
   "metadata": {},
   "outputs": [],
   "source": [
    "re_pl = am.find_local_lane_polygons([3155,3172,1660,1680],'PIT')\n",
    "print(len(re_pl))\n",
    "i = 2\n",
    "print('re_pl', re_pl[i])\n",
    "display(Polygon(re_pl[i]))\n",
    "re_pl_df = DataFrame(re_pl[i])\n",
    "print((re_pl_df))\n",
    "plt.scatter(re_pl_df[0],re_pl_df[1])"
   ]
  },
  {
   "cell_type": "code",
   "execution_count": null,
   "metadata": {},
   "outputs": [],
   "source": [
    "for i in range(len(re_pl)):\n",
    "    x = re_pl[i]\n",
    "    # display(Polygon(x))\n",
    "    re_pl_df = DataFrame(x)\n",
    "    plt.plot(re_pl_df[0],re_pl_df[1])\n",
    "    plt.axis('equal')"
   ]
  },
  {
   "cell_type": "code",
   "execution_count": null,
   "metadata": {},
   "outputs": [],
   "source": [
    "traj = np.array([[3181,1671],[3178,1675],[3176,1680],[3170,1675]])\n",
    "altraj = am.get_candidate_centerlines_for_traj(traj,'PIT')\n",
    "print(len(altraj))\n",
    "for i in range(len(altraj)):\n",
    "    plt.scatter(DataFrame(traj)[0],DataFrame(traj)[1])\n",
    "    x = DataFrame(altraj[i])\n",
    "    plt.plot(x[0],x[1])\n",
    "    plt.axis('equal')\n",
    "#     plt.pause(1)\n",
    "#     plt.show()\n",
    "#     time.sleep(0.5)\n",
    "    # plt.show()\n",
    "plt.show()"
   ]
  },
  {
   "cell_type": "code",
   "execution_count": null,
   "metadata": {},
   "outputs": [],
   "source": [
    "from plt_Animation import plt_Anima"
   ]
  },
  {
   "cell_type": "code",
   "execution_count": null,
   "metadata": {},
   "outputs": [],
   "source": [
    "plt_Anima([[1,2],[5,6],[7,12]])"
   ]
  },
  {
   "cell_type": "code",
   "execution_count": null,
   "metadata": {},
   "outputs": [],
   "source": []
  },
  {
   "cell_type": "code",
   "execution_count": null,
   "metadata": {},
   "outputs": [],
   "source": []
  }
 ],
 "metadata": {
  "kernelspec": {
   "display_name": "Python 3",
   "language": "python",
   "name": "python3"
  },
  "language_info": {
   "codemirror_mode": {
    "name": "ipython",
    "version": 3
   },
   "file_extension": ".py",
   "mimetype": "text/x-python",
   "name": "python",
   "nbconvert_exporter": "python",
   "pygments_lexer": "ipython3",
   "version": "3.7.9"
  }
 },
 "nbformat": 4,
 "nbformat_minor": 1
}
